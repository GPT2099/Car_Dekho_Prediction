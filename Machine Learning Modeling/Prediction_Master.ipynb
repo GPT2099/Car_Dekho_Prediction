{
 "metadata": {
  "language_info": {
   "codemirror_mode": {
    "name": "ipython",
    "version": 3
   },
   "file_extension": ".py",
   "mimetype": "text/x-python",
   "name": "python",
   "nbconvert_exporter": "python",
   "pygments_lexer": "ipython3",
   "version": "3.7.9"
  },
  "orig_nbformat": 2,
  "kernelspec": {
   "name": "python3",
   "display_name": "Python 3.7.9 64-bit ('PythonData2': conda)"
  },
  "interpreter": {
   "hash": "1323ab88a6f9459fb8f40aaa3e9be02fdd1e64e02e1c290cdd414cfd6c971c86"
  }
 },
 "nbformat": 4,
 "nbformat_minor": 2,
 "cells": [
  {
   "cell_type": "code",
   "execution_count": 68,
   "metadata": {},
   "outputs": [],
   "source": [
    "import pandas as pd\n",
    "import numpy as np\n",
    "import matplotlib.pyplot as plt\n",
    "import seaborn as sns\n",
    "from sklearn.metrics import accuracy_score\n",
    "\n",
    "from sklearn.preprocessing import StandardScaler\n",
    "from sklearn.preprocessing import MinMaxScaler\n",
    "from sklearn.linear_model import LinearRegression\n",
    "from sklearn.model_selection import train_test_split\n",
    "from sklearn.ensemble import RandomForestRegressor\n",
    "from sklearn.ensemble import RandomForestClassifier\n",
    "from sklearn.dummy import DummyRegressor\n",
    "from sklearn.preprocessing import OneHotEncoder\n",
    "from sklearn.metrics import confusion_matrix, classification_report \n",
    "from sklearn.tree import DecisionTreeClassifier\n",
    "from sklearn.svm import SVC"
   ]
  },
  {
   "cell_type": "code",
   "execution_count": 71,
   "metadata": {},
   "outputs": [
    {
     "output_type": "stream",
     "name": "stderr",
     "text": [
      "C:\\Users\\SS UPGRADE\\.conda\\envs\\PythonData2\\lib\\site-packages\\ipykernel\\ipkernel.py:287: DeprecationWarning: `should_run_async` will not call `transform_cell` automatically in the future. Please pass the result to `transformed_cell` argument and any exception that happen during thetransform in `preprocessing_exc_tuple` in IPython 7.17 and above.\n  and should_run_async(code)\n"
     ]
    }
   ],
   "source": [
    "import warnings\n",
    "warnings.filterwarnings(action='ignore')"
   ]
  },
  {
   "cell_type": "code",
   "execution_count": 33,
   "metadata": {},
   "outputs": [],
   "source": [
    "car_data = pd.read_csv(\"../Resources/master_data.csv\", index_col=0)"
   ]
  },
  {
   "cell_type": "code",
   "execution_count": 34,
   "metadata": {},
   "outputs": [
    {
     "output_type": "execute_result",
     "data": {
      "text/plain": [
       "                           name  year  selling_price  km_driven    fuel  \\\n",
       "0        Maruti Swift Dzire VDI  2014         450000     145500  Diesel   \n",
       "1  Skoda Rapid 1.5 TDI Ambition  2014         370000     120000  Diesel   \n",
       "2      Honda City 2017-2020 EXi  2006         158000     140000  Petrol   \n",
       "3     Hyundai i20 Sportz Diesel  2010         225000     127000  Diesel   \n",
       "4        Maruti Swift VXI BSIII  2007         130000     120000  Petrol   \n",
       "\n",
       "  seller_type transmission         owner manufacturer made_in  \\\n",
       "0  Individual       Manual   First Owner       Maruti   India   \n",
       "1  Individual       Manual  Second Owner        Skoda  Europe   \n",
       "2  Individual       Manual   Third Owner        Honda    Asia   \n",
       "3  Individual       Manual   First Owner      Hyundai    Asia   \n",
       "4  Individual       Manual   First Owner       Maruti   India   \n",
       "\n",
       "         price_group  \n",
       "0  400,000 - 600,000  \n",
       "1  200,000 - 400,000  \n",
       "2   20,000 - 200,000  \n",
       "3  200,000 - 400,000  \n",
       "4   20,000 - 200,000  "
      ],
      "text/html": "<div>\n<style scoped>\n    .dataframe tbody tr th:only-of-type {\n        vertical-align: middle;\n    }\n\n    .dataframe tbody tr th {\n        vertical-align: top;\n    }\n\n    .dataframe thead th {\n        text-align: right;\n    }\n</style>\n<table border=\"1\" class=\"dataframe\">\n  <thead>\n    <tr style=\"text-align: right;\">\n      <th></th>\n      <th>name</th>\n      <th>year</th>\n      <th>selling_price</th>\n      <th>km_driven</th>\n      <th>fuel</th>\n      <th>seller_type</th>\n      <th>transmission</th>\n      <th>owner</th>\n      <th>manufacturer</th>\n      <th>made_in</th>\n      <th>price_group</th>\n    </tr>\n  </thead>\n  <tbody>\n    <tr>\n      <th>0</th>\n      <td>Maruti Swift Dzire VDI</td>\n      <td>2014</td>\n      <td>450000</td>\n      <td>145500</td>\n      <td>Diesel</td>\n      <td>Individual</td>\n      <td>Manual</td>\n      <td>First Owner</td>\n      <td>Maruti</td>\n      <td>India</td>\n      <td>400,000 - 600,000</td>\n    </tr>\n    <tr>\n      <th>1</th>\n      <td>Skoda Rapid 1.5 TDI Ambition</td>\n      <td>2014</td>\n      <td>370000</td>\n      <td>120000</td>\n      <td>Diesel</td>\n      <td>Individual</td>\n      <td>Manual</td>\n      <td>Second Owner</td>\n      <td>Skoda</td>\n      <td>Europe</td>\n      <td>200,000 - 400,000</td>\n    </tr>\n    <tr>\n      <th>2</th>\n      <td>Honda City 2017-2020 EXi</td>\n      <td>2006</td>\n      <td>158000</td>\n      <td>140000</td>\n      <td>Petrol</td>\n      <td>Individual</td>\n      <td>Manual</td>\n      <td>Third Owner</td>\n      <td>Honda</td>\n      <td>Asia</td>\n      <td>20,000 - 200,000</td>\n    </tr>\n    <tr>\n      <th>3</th>\n      <td>Hyundai i20 Sportz Diesel</td>\n      <td>2010</td>\n      <td>225000</td>\n      <td>127000</td>\n      <td>Diesel</td>\n      <td>Individual</td>\n      <td>Manual</td>\n      <td>First Owner</td>\n      <td>Hyundai</td>\n      <td>Asia</td>\n      <td>200,000 - 400,000</td>\n    </tr>\n    <tr>\n      <th>4</th>\n      <td>Maruti Swift VXI BSIII</td>\n      <td>2007</td>\n      <td>130000</td>\n      <td>120000</td>\n      <td>Petrol</td>\n      <td>Individual</td>\n      <td>Manual</td>\n      <td>First Owner</td>\n      <td>Maruti</td>\n      <td>India</td>\n      <td>20,000 - 200,000</td>\n    </tr>\n  </tbody>\n</table>\n</div>"
     },
     "metadata": {},
     "execution_count": 34
    }
   ],
   "source": [
    "car_data.head()"
   ]
  },
  {
   "cell_type": "code",
   "execution_count": 35,
   "metadata": {},
   "outputs": [],
   "source": [
    "# Switch between including manufacturer in modelling or not:\n",
    "include_manufacturer = True"
   ]
  },
  {
   "cell_type": "code",
   "execution_count": 36,
   "metadata": {},
   "outputs": [],
   "source": [
    "if include_manufacturer:\n",
    "    car_names = car_data.pop(\"name\")\n",
    "\n",
    "    # Only one of the below should be uncommented at a time:\n",
    "    car_makes = car_data.pop(\"manufacturer\")\n",
    "    # car_made_ins = car_data.pop(\"made_in\")\n",
    "\n",
    "else:\n",
    "    car_names = car_data.pop(\"name\")\n",
    "    car_makes = car_data.pop(\"manufacturer\")\n",
    "    car_made_ins = car_data.pop(\"made_in\")"
   ]
  },
  {
   "cell_type": "code",
   "execution_count": 37,
   "metadata": {},
   "outputs": [],
   "source": [
    "# For testing: Drop columns here to test effect on model accuracy\n",
    "# car_data = car_data.drop([\"fuel\"], axis=1)\n",
    "# car_data = car_data.drop([\"transmission\"], axis=1)\n",
    "car_data = car_data.drop([\"owner\"], axis=1) # Slight improvement if excluded"
   ]
  },
  {
   "cell_type": "code",
   "execution_count": 38,
   "metadata": {},
   "outputs": [
    {
     "output_type": "execute_result",
     "data": {
      "text/plain": [
       "   year  selling_price  km_driven    fuel seller_type transmission made_in  \\\n",
       "0  2014         450000     145500  Diesel  Individual       Manual   India   \n",
       "1  2014         370000     120000  Diesel  Individual       Manual  Europe   \n",
       "2  2006         158000     140000  Petrol  Individual       Manual    Asia   \n",
       "3  2010         225000     127000  Diesel  Individual       Manual    Asia   \n",
       "4  2007         130000     120000  Petrol  Individual       Manual   India   \n",
       "\n",
       "         price_group  \n",
       "0  400,000 - 600,000  \n",
       "1  200,000 - 400,000  \n",
       "2   20,000 - 200,000  \n",
       "3  200,000 - 400,000  \n",
       "4   20,000 - 200,000  "
      ],
      "text/html": "<div>\n<style scoped>\n    .dataframe tbody tr th:only-of-type {\n        vertical-align: middle;\n    }\n\n    .dataframe tbody tr th {\n        vertical-align: top;\n    }\n\n    .dataframe thead th {\n        text-align: right;\n    }\n</style>\n<table border=\"1\" class=\"dataframe\">\n  <thead>\n    <tr style=\"text-align: right;\">\n      <th></th>\n      <th>year</th>\n      <th>selling_price</th>\n      <th>km_driven</th>\n      <th>fuel</th>\n      <th>seller_type</th>\n      <th>transmission</th>\n      <th>made_in</th>\n      <th>price_group</th>\n    </tr>\n  </thead>\n  <tbody>\n    <tr>\n      <th>0</th>\n      <td>2014</td>\n      <td>450000</td>\n      <td>145500</td>\n      <td>Diesel</td>\n      <td>Individual</td>\n      <td>Manual</td>\n      <td>India</td>\n      <td>400,000 - 600,000</td>\n    </tr>\n    <tr>\n      <th>1</th>\n      <td>2014</td>\n      <td>370000</td>\n      <td>120000</td>\n      <td>Diesel</td>\n      <td>Individual</td>\n      <td>Manual</td>\n      <td>Europe</td>\n      <td>200,000 - 400,000</td>\n    </tr>\n    <tr>\n      <th>2</th>\n      <td>2006</td>\n      <td>158000</td>\n      <td>140000</td>\n      <td>Petrol</td>\n      <td>Individual</td>\n      <td>Manual</td>\n      <td>Asia</td>\n      <td>20,000 - 200,000</td>\n    </tr>\n    <tr>\n      <th>3</th>\n      <td>2010</td>\n      <td>225000</td>\n      <td>127000</td>\n      <td>Diesel</td>\n      <td>Individual</td>\n      <td>Manual</td>\n      <td>Asia</td>\n      <td>200,000 - 400,000</td>\n    </tr>\n    <tr>\n      <th>4</th>\n      <td>2007</td>\n      <td>130000</td>\n      <td>120000</td>\n      <td>Petrol</td>\n      <td>Individual</td>\n      <td>Manual</td>\n      <td>India</td>\n      <td>20,000 - 200,000</td>\n    </tr>\n  </tbody>\n</table>\n</div>"
     },
     "metadata": {},
     "execution_count": 38
    }
   ],
   "source": [
    "# Preview the data\n",
    "car_data.head()"
   ]
  },
  {
   "cell_type": "code",
   "execution_count": 39,
   "metadata": {},
   "outputs": [
    {
     "output_type": "execute_result",
     "data": {
      "text/plain": [
       "year              int64\n",
       "selling_price     int64\n",
       "km_driven         int64\n",
       "fuel             object\n",
       "seller_type      object\n",
       "transmission     object\n",
       "made_in          object\n",
       "price_group      object\n",
       "dtype: object"
      ]
     },
     "metadata": {},
     "execution_count": 39
    }
   ],
   "source": [
    "# Check that inferred datatypes are correct\n",
    "car_data.dtypes"
   ]
  },
  {
   "cell_type": "code",
   "execution_count": 40,
   "metadata": {},
   "outputs": [],
   "source": [
    "# Split off the target (price group) before One-Hot Encoding\n",
    "target = car_data[\"price_group\"]\n",
    "\n",
    "# Selling Price data will be used to verify model, but won't be useful for training the model\n",
    "selling_prices = car_data[\"selling_price\"]\n",
    "\n",
    "car_data = car_data.drop([\"price_group\", \"selling_price\"], axis=1)"
   ]
  },
  {
   "cell_type": "code",
   "execution_count": 41,
   "metadata": {},
   "outputs": [
    {
     "output_type": "execute_result",
     "data": {
      "text/plain": [
       "year             int64\n",
       "km_driven        int64\n",
       "fuel            object\n",
       "seller_type     object\n",
       "transmission    object\n",
       "made_in         object\n",
       "dtype: object"
      ]
     },
     "metadata": {},
     "execution_count": 41
    }
   ],
   "source": [
    "car_data.dtypes"
   ]
  },
  {
   "cell_type": "code",
   "execution_count": 42,
   "metadata": {},
   "outputs": [
    {
     "output_type": "execute_result",
     "data": {
      "text/plain": [
       "fuel            3\n",
       "seller_type     3\n",
       "transmission    2\n",
       "made_in         5\n",
       "dtype: int64"
      ]
     },
     "metadata": {},
     "execution_count": 42
    }
   ],
   "source": [
    "# Split off categorical data \n",
    "cars_cat = car_data.dtypes[car_data.dtypes == \"object\"].index.tolist()\n",
    "car_data[cars_cat].nunique()"
   ]
  },
  {
   "cell_type": "code",
   "execution_count": 43,
   "metadata": {},
   "outputs": [
    {
     "output_type": "execute_result",
     "data": {
      "text/plain": [
       "   fuel_Diesel  fuel_Other  fuel_Petrol  seller_type_Dealer  \\\n",
       "0          1.0         0.0          0.0                 0.0   \n",
       "1          1.0         0.0          0.0                 0.0   \n",
       "2          0.0         0.0          1.0                 0.0   \n",
       "3          1.0         0.0          0.0                 0.0   \n",
       "4          0.0         0.0          1.0                 0.0   \n",
       "\n",
       "   seller_type_Individual  seller_type_Trustmark Dealer  \\\n",
       "0                     1.0                           0.0   \n",
       "1                     1.0                           0.0   \n",
       "2                     1.0                           0.0   \n",
       "3                     1.0                           0.0   \n",
       "4                     1.0                           0.0   \n",
       "\n",
       "   transmission_Automatic  transmission_Manual  made_in_America  made_in_Asia  \\\n",
       "0                     0.0                  1.0              0.0           0.0   \n",
       "1                     0.0                  1.0              0.0           0.0   \n",
       "2                     0.0                  1.0              0.0           1.0   \n",
       "3                     0.0                  1.0              0.0           1.0   \n",
       "4                     0.0                  1.0              0.0           0.0   \n",
       "\n",
       "   made_in_Europe  made_in_India  made_in_Unknown  \n",
       "0             0.0            1.0              0.0  \n",
       "1             1.0            0.0              0.0  \n",
       "2             0.0            0.0              0.0  \n",
       "3             0.0            0.0              0.0  \n",
       "4             0.0            1.0              0.0  "
      ],
      "text/html": "<div>\n<style scoped>\n    .dataframe tbody tr th:only-of-type {\n        vertical-align: middle;\n    }\n\n    .dataframe tbody tr th {\n        vertical-align: top;\n    }\n\n    .dataframe thead th {\n        text-align: right;\n    }\n</style>\n<table border=\"1\" class=\"dataframe\">\n  <thead>\n    <tr style=\"text-align: right;\">\n      <th></th>\n      <th>fuel_Diesel</th>\n      <th>fuel_Other</th>\n      <th>fuel_Petrol</th>\n      <th>seller_type_Dealer</th>\n      <th>seller_type_Individual</th>\n      <th>seller_type_Trustmark Dealer</th>\n      <th>transmission_Automatic</th>\n      <th>transmission_Manual</th>\n      <th>made_in_America</th>\n      <th>made_in_Asia</th>\n      <th>made_in_Europe</th>\n      <th>made_in_India</th>\n      <th>made_in_Unknown</th>\n    </tr>\n  </thead>\n  <tbody>\n    <tr>\n      <th>0</th>\n      <td>1.0</td>\n      <td>0.0</td>\n      <td>0.0</td>\n      <td>0.0</td>\n      <td>1.0</td>\n      <td>0.0</td>\n      <td>0.0</td>\n      <td>1.0</td>\n      <td>0.0</td>\n      <td>0.0</td>\n      <td>0.0</td>\n      <td>1.0</td>\n      <td>0.0</td>\n    </tr>\n    <tr>\n      <th>1</th>\n      <td>1.0</td>\n      <td>0.0</td>\n      <td>0.0</td>\n      <td>0.0</td>\n      <td>1.0</td>\n      <td>0.0</td>\n      <td>0.0</td>\n      <td>1.0</td>\n      <td>0.0</td>\n      <td>0.0</td>\n      <td>1.0</td>\n      <td>0.0</td>\n      <td>0.0</td>\n    </tr>\n    <tr>\n      <th>2</th>\n      <td>0.0</td>\n      <td>0.0</td>\n      <td>1.0</td>\n      <td>0.0</td>\n      <td>1.0</td>\n      <td>0.0</td>\n      <td>0.0</td>\n      <td>1.0</td>\n      <td>0.0</td>\n      <td>1.0</td>\n      <td>0.0</td>\n      <td>0.0</td>\n      <td>0.0</td>\n    </tr>\n    <tr>\n      <th>3</th>\n      <td>1.0</td>\n      <td>0.0</td>\n      <td>0.0</td>\n      <td>0.0</td>\n      <td>1.0</td>\n      <td>0.0</td>\n      <td>0.0</td>\n      <td>1.0</td>\n      <td>0.0</td>\n      <td>1.0</td>\n      <td>0.0</td>\n      <td>0.0</td>\n      <td>0.0</td>\n    </tr>\n    <tr>\n      <th>4</th>\n      <td>0.0</td>\n      <td>0.0</td>\n      <td>1.0</td>\n      <td>0.0</td>\n      <td>1.0</td>\n      <td>0.0</td>\n      <td>0.0</td>\n      <td>1.0</td>\n      <td>0.0</td>\n      <td>0.0</td>\n      <td>0.0</td>\n      <td>1.0</td>\n      <td>0.0</td>\n    </tr>\n  </tbody>\n</table>\n</div>"
     },
     "metadata": {},
     "execution_count": 43
    }
   ],
   "source": [
    "# Create a OneHotEncoder instance\n",
    "enc = OneHotEncoder(sparse=False)\n",
    "\n",
    "# Fit and transform the OneHotEncoder using the categorical variable list\n",
    "encode_df = pd.DataFrame(enc.fit_transform(car_data[cars_cat]))\n",
    "\n",
    "# Add the encoded variable names to the DataFrame\n",
    "encode_df.columns = enc.get_feature_names(cars_cat)\n",
    "encode_df.head()"
   ]
  },
  {
   "cell_type": "code",
   "execution_count": 44,
   "metadata": {},
   "outputs": [],
   "source": [
    "prepared_data = car_data.merge(encode_df, left_index=True, right_index=True)\n",
    "prepared_data = prepared_data.drop(cars_cat, axis=1)\n",
    "prepared_data = prepared_data.merge(target, left_index=True, right_index=True)"
   ]
  },
  {
   "source": [
    "## Train/Test Split"
   ],
   "cell_type": "markdown",
   "metadata": {}
  },
  {
   "cell_type": "code",
   "execution_count": 45,
   "metadata": {},
   "outputs": [],
   "source": [
    "# Split model into train/test groups\n",
    "X = prepared_data.drop(columns=['price_group'])\n",
    "y = prepared_data['price_group']\n",
    "X_train, X_test, y_train, y_test = train_test_split(X, y, test_size=0.4, random_state = 65)"
   ]
  },
  {
   "cell_type": "code",
   "execution_count": 46,
   "metadata": {},
   "outputs": [
    {
     "output_type": "execute_result",
     "data": {
      "text/plain": [
       "   year  km_driven  fuel_Diesel  fuel_Other  fuel_Petrol  seller_type_Dealer  \\\n",
       "0  2014     145500          1.0         0.0          0.0                 0.0   \n",
       "0  2014     145500          1.0         0.0          0.0                 0.0   \n",
       "0  2007      70000          1.0         0.0          0.0                 0.0   \n",
       "0  2007      70000          1.0         0.0          0.0                 0.0   \n",
       "1  2014     120000          1.0         0.0          0.0                 0.0   \n",
       "\n",
       "   seller_type_Individual  seller_type_Trustmark Dealer  \\\n",
       "0                     1.0                           0.0   \n",
       "0                     1.0                           0.0   \n",
       "0                     1.0                           0.0   \n",
       "0                     1.0                           0.0   \n",
       "1                     1.0                           0.0   \n",
       "\n",
       "   transmission_Automatic  transmission_Manual  made_in_America  made_in_Asia  \\\n",
       "0                     0.0                  1.0              0.0           0.0   \n",
       "0                     0.0                  1.0              0.0           0.0   \n",
       "0                     0.0                  1.0              0.0           0.0   \n",
       "0                     0.0                  1.0              0.0           0.0   \n",
       "1                     0.0                  1.0              0.0           0.0   \n",
       "\n",
       "   made_in_Europe  made_in_India  made_in_Unknown  \n",
       "0             0.0            1.0              0.0  \n",
       "0             0.0            1.0              0.0  \n",
       "0             0.0            1.0              0.0  \n",
       "0             0.0            1.0              0.0  \n",
       "1             1.0            0.0              0.0  "
      ],
      "text/html": "<div>\n<style scoped>\n    .dataframe tbody tr th:only-of-type {\n        vertical-align: middle;\n    }\n\n    .dataframe tbody tr th {\n        vertical-align: top;\n    }\n\n    .dataframe thead th {\n        text-align: right;\n    }\n</style>\n<table border=\"1\" class=\"dataframe\">\n  <thead>\n    <tr style=\"text-align: right;\">\n      <th></th>\n      <th>year</th>\n      <th>km_driven</th>\n      <th>fuel_Diesel</th>\n      <th>fuel_Other</th>\n      <th>fuel_Petrol</th>\n      <th>seller_type_Dealer</th>\n      <th>seller_type_Individual</th>\n      <th>seller_type_Trustmark Dealer</th>\n      <th>transmission_Automatic</th>\n      <th>transmission_Manual</th>\n      <th>made_in_America</th>\n      <th>made_in_Asia</th>\n      <th>made_in_Europe</th>\n      <th>made_in_India</th>\n      <th>made_in_Unknown</th>\n    </tr>\n  </thead>\n  <tbody>\n    <tr>\n      <th>0</th>\n      <td>2014</td>\n      <td>145500</td>\n      <td>1.0</td>\n      <td>0.0</td>\n      <td>0.0</td>\n      <td>0.0</td>\n      <td>1.0</td>\n      <td>0.0</td>\n      <td>0.0</td>\n      <td>1.0</td>\n      <td>0.0</td>\n      <td>0.0</td>\n      <td>0.0</td>\n      <td>1.0</td>\n      <td>0.0</td>\n    </tr>\n    <tr>\n      <th>0</th>\n      <td>2014</td>\n      <td>145500</td>\n      <td>1.0</td>\n      <td>0.0</td>\n      <td>0.0</td>\n      <td>0.0</td>\n      <td>1.0</td>\n      <td>0.0</td>\n      <td>0.0</td>\n      <td>1.0</td>\n      <td>0.0</td>\n      <td>0.0</td>\n      <td>0.0</td>\n      <td>1.0</td>\n      <td>0.0</td>\n    </tr>\n    <tr>\n      <th>0</th>\n      <td>2007</td>\n      <td>70000</td>\n      <td>1.0</td>\n      <td>0.0</td>\n      <td>0.0</td>\n      <td>0.0</td>\n      <td>1.0</td>\n      <td>0.0</td>\n      <td>0.0</td>\n      <td>1.0</td>\n      <td>0.0</td>\n      <td>0.0</td>\n      <td>0.0</td>\n      <td>1.0</td>\n      <td>0.0</td>\n    </tr>\n    <tr>\n      <th>0</th>\n      <td>2007</td>\n      <td>70000</td>\n      <td>1.0</td>\n      <td>0.0</td>\n      <td>0.0</td>\n      <td>0.0</td>\n      <td>1.0</td>\n      <td>0.0</td>\n      <td>0.0</td>\n      <td>1.0</td>\n      <td>0.0</td>\n      <td>0.0</td>\n      <td>0.0</td>\n      <td>1.0</td>\n      <td>0.0</td>\n    </tr>\n    <tr>\n      <th>1</th>\n      <td>2014</td>\n      <td>120000</td>\n      <td>1.0</td>\n      <td>0.0</td>\n      <td>0.0</td>\n      <td>0.0</td>\n      <td>1.0</td>\n      <td>0.0</td>\n      <td>0.0</td>\n      <td>1.0</td>\n      <td>0.0</td>\n      <td>0.0</td>\n      <td>1.0</td>\n      <td>0.0</td>\n      <td>0.0</td>\n    </tr>\n  </tbody>\n</table>\n</div>"
     },
     "metadata": {},
     "execution_count": 46
    }
   ],
   "source": [
    "X.head()"
   ]
  },
  {
   "source": [
    "## Decision Tree"
   ],
   "cell_type": "markdown",
   "metadata": {}
  },
  {
   "cell_type": "code",
   "execution_count": 47,
   "metadata": {},
   "outputs": [],
   "source": [
    "# Train Decision Tree model\n",
    "dtree_model = DecisionTreeClassifier(max_depth = 5).fit(X_train, y_train)\n",
    "dtree_predictions = dtree_model.predict(X_test)"
   ]
  },
  {
   "cell_type": "code",
   "execution_count": 48,
   "metadata": {},
   "outputs": [
    {
     "output_type": "stream",
     "name": "stdout",
     "text": [
      "Decision Tree Accuracy:  0.45691596539054163\n"
     ]
    }
   ],
   "source": [
    "# Assess Decision Tree model\n",
    "print(\"Decision Tree Accuracy: \", accuracy_score(y_test, dtree_predictions))\n",
    "#test_pred = pd.DataFrame({\"Test Target\" : y_test, \"Model Prediction\" : dtree_predictions}); test_pred.head()"
   ]
  },
  {
   "cell_type": "code",
   "execution_count": 22,
   "metadata": {},
   "outputs": [],
   "source": [
    "# Save decision tree model. To load:\n",
    "#      loaded_model = pickle.load(open(\"dtree_model.sav\", 'rb'))\n",
    "import pickle\n",
    "pickle.dump(dtree_model, open(\"dtree_model.sav\", 'wb'))"
   ]
  },
  {
   "cell_type": "code",
   "execution_count": 23,
   "metadata": {
    "tags": []
   },
   "outputs": [],
   "source": [
    "from sklearn.tree import export_text\n",
    "text_representation = export_text(dtree_model, feature_names=list(X.columns))\n",
    "with open(\"tree_text.txt\", \"wb\") as f:\n",
    "    f.truncate(0)\n",
    "    f.write(text_representation.encode())\n",
    "    f.close()"
   ]
  },
  {
   "source": [
    "### Assessing Misclassification Severity"
   ],
   "cell_type": "markdown",
   "metadata": {}
  },
  {
   "cell_type": "code",
   "execution_count": 75,
   "metadata": {},
   "outputs": [
    {
     "output_type": "execute_result",
     "data": {
      "text/plain": [
       "              predicted             actual  pred_label  actual_label  \\\n",
       "1265  200,000 - 400,000   20,000 - 200,000           2             1   \n",
       "4800  200,000 - 400,000           600,000+           2             4   \n",
       "1642  200,000 - 400,000   20,000 - 200,000           2             1   \n",
       "197            600,000+  200,000 - 400,000           4             2   \n",
       "2103           600,000+  200,000 - 400,000           4             2   \n",
       "\n",
       "      pred_distance  \n",
       "1265              1  \n",
       "4800             -2  \n",
       "1642              1  \n",
       "197               2  \n",
       "2103              2  "
      ],
      "text/html": "<div>\n<style scoped>\n    .dataframe tbody tr th:only-of-type {\n        vertical-align: middle;\n    }\n\n    .dataframe tbody tr th {\n        vertical-align: top;\n    }\n\n    .dataframe thead th {\n        text-align: right;\n    }\n</style>\n<table border=\"1\" class=\"dataframe\">\n  <thead>\n    <tr style=\"text-align: right;\">\n      <th></th>\n      <th>predicted</th>\n      <th>actual</th>\n      <th>pred_label</th>\n      <th>actual_label</th>\n      <th>pred_distance</th>\n    </tr>\n  </thead>\n  <tbody>\n    <tr>\n      <th>1265</th>\n      <td>200,000 - 400,000</td>\n      <td>20,000 - 200,000</td>\n      <td>2</td>\n      <td>1</td>\n      <td>1</td>\n    </tr>\n    <tr>\n      <th>4800</th>\n      <td>200,000 - 400,000</td>\n      <td>600,000+</td>\n      <td>2</td>\n      <td>4</td>\n      <td>-2</td>\n    </tr>\n    <tr>\n      <th>1642</th>\n      <td>200,000 - 400,000</td>\n      <td>20,000 - 200,000</td>\n      <td>2</td>\n      <td>1</td>\n      <td>1</td>\n    </tr>\n    <tr>\n      <th>197</th>\n      <td>600,000+</td>\n      <td>200,000 - 400,000</td>\n      <td>4</td>\n      <td>2</td>\n      <td>2</td>\n    </tr>\n    <tr>\n      <th>2103</th>\n      <td>600,000+</td>\n      <td>200,000 - 400,000</td>\n      <td>4</td>\n      <td>2</td>\n      <td>2</td>\n    </tr>\n  </tbody>\n</table>\n</div>"
     },
     "metadata": {},
     "execution_count": 75
    }
   ],
   "source": [
    "pred_vs_real = pd.DataFrame({\"predicted\" : dtree_predictions, \"actual\" : y_test})\n",
    "misclassed = pred_vs_real[pred_vs_real[\"predicted\"] != pred_vs_real[\"actual\"]]\n",
    "misclassed.reset_index()\n",
    "\n",
    "def get_label(record):\n",
    "    if record == \"20,000 - 200,000\":\n",
    "        return 1\n",
    "    elif record == \"200,000 - 400,000\":\n",
    "        return 2\n",
    "    elif record == \"400,000 - 600,000\":\n",
    "        return 3\n",
    "    elif record == \"600,000+\":\n",
    "        return 4\n",
    "        \n",
    "misclassed[\"pred_label\"] = misclassed[\"predicted\"].apply(get_label)\n",
    "misclassed[\"actual_label\"] = misclassed[\"actual\"].apply(get_label)\n",
    "misclassed[\"pred_distance\"] = misclassed[\"pred_label\"] - misclassed[\"actual_label\"]\n",
    "\n",
    "misclassed.head()"
   ]
  },
  {
   "cell_type": "code",
   "execution_count": 76,
   "metadata": {},
   "outputs": [
    {
     "output_type": "execute_result",
     "data": {
      "text/plain": [
       " 1    1552\n",
       "-1    1081\n",
       " 2     771\n",
       "-2     731\n",
       " 3     284\n",
       "-3     163\n",
       "Name: pred_distance, dtype: int64"
      ]
     },
     "metadata": {},
     "execution_count": 76
    }
   ],
   "source": [
    "misclassed[\"pred_distance\"].value_counts()"
   ]
  },
  {
   "source": [
    "57.4% of erroneous predictions were within one price range of the correct answer.\n",
    "\n",
    "9.7% of erroneous predictions were maximally incorrect (three price ranges away from correct answer)."
   ],
   "cell_type": "markdown",
   "metadata": {}
  },
  {
   "source": [
    "## Random Forest"
   ],
   "cell_type": "markdown",
   "metadata": {}
  },
  {
   "cell_type": "code",
   "execution_count": 24,
   "metadata": {},
   "outputs": [],
   "source": [
    "# Train Random Forest Model\n",
    "rf_model = RandomForestClassifier(n_estimators=350, random_state=101)\n",
    "rf_model = rf_model.fit(X_train, y_train)"
   ]
  },
  {
   "cell_type": "code",
   "execution_count": 25,
   "metadata": {},
   "outputs": [
    {
     "output_type": "stream",
     "name": "stdout",
     "text": [
      "Random Forest Accuracy:  0.36280668484058315\n"
     ]
    }
   ],
   "source": [
    "# Assess Random Forest Model\n",
    "rf_predictions = rf_model.predict(X_test)\n",
    "print(\"Random Forest Accuracy: \", accuracy_score(y_test, rf_predictions))"
   ]
  },
  {
   "source": [
    "## Subset: Manufactured 2014 or Later"
   ],
   "cell_type": "markdown",
   "metadata": {}
  },
  {
   "cell_type": "code",
   "execution_count": 26,
   "metadata": {},
   "outputs": [],
   "source": [
    "# Split model into train/test groups\n",
    "prepared_decade = prepared_data[prepared_data[\"year\"] > 2013]\n",
    "X = prepared_decade.drop(columns=['price_group'])\n",
    "y = prepared_decade['price_group']\n",
    "X_train, X_test, y_train, y_test = train_test_split(X, y, test_size=0.15, random_state = 120)"
   ]
  },
  {
   "cell_type": "code",
   "execution_count": 27,
   "metadata": {},
   "outputs": [
    {
     "output_type": "stream",
     "name": "stdout",
     "text": [
      "Decision Tree Accuracy:  0.45683247570040025\n"
     ]
    }
   ],
   "source": [
    "# Train Decision Tree model\n",
    "dtree_decade = DecisionTreeClassifier(max_depth = 4).fit(X_train, y_train)\n",
    "dtree_predictions_decade = dtree_decade.predict(X_test)\n",
    "print(\"Decision Tree Accuracy: \", accuracy_score(y_test, dtree_predictions_decade))"
   ]
  },
  {
   "source": [
    "Do newer cars have more consistency in how their features affect their selling price? What features are used to differentiate between brackets?"
   ],
   "cell_type": "markdown",
   "metadata": {}
  },
  {
   "cell_type": "code",
   "execution_count": 28,
   "metadata": {},
   "outputs": [],
   "source": [
    "text_representation = export_text(dtree_decade, feature_names=list(X.columns))\n",
    "with open(\"recent_tree_text.txt\", \"wb\") as f:\n",
    "    f.truncate(0)\n",
    "    f.write(text_representation.encode())\n",
    "    f.close()"
   ]
  },
  {
   "source": [
    "# 2014 or later decision tree logic:\n",
    "#|--- year <= 2016.50\n",
    "#|   |--- transmission_Manual <= 0.50\n",
    "#|   |   |--- fuel_Petrol <= 0.50\n",
    "#|   |   |   |--- class: 600,000+\n",
    "#|   |   |--- fuel_Petrol >  0.50\n",
    "#|   |   |   |--- class: 600,000+\n",
    "#|   |--- transmission_Manual >  0.50\n",
    "#|   |   |--- fuel_Diesel <= 0.50\n",
    "#|   |   |   |--- class: 200,000 - 400,000\n",
    "#|   |   |--- fuel_Diesel >  0.50\n",
    "#|   |   |   |--- class: 600,000+\n",
    "#|--- year >  2016.50\n",
    "#|   |--- transmission_Automatic <= 0.50\n",
    "#|   |   |--- fuel_Diesel <= 0.50\n",
    "#|   |   |   |--- class: 600,000+\n",
    "#|   |   |--- fuel_Diesel >  0.50\n",
    "#|   |   |   |--- class: 600,000+\n",
    "#|   |--- transmission_Automatic >  0.50\n",
    "#|   |   |--- seller_type_Individual <= 0.50\n",
    "#|   |   |   |--- class: 600,000+\n",
    "#|   |   |--- seller_type_Individual >  0.50\n",
    "#|   |   |   |--- class: 600,000+\n"
   ],
   "cell_type": "code",
   "metadata": {},
   "execution_count": 29,
   "outputs": []
  },
  {
   "cell_type": "code",
   "execution_count": 30,
   "metadata": {},
   "outputs": [
    {
     "output_type": "execute_result",
     "data": {
      "text/plain": [
       "600,000+             4882\n",
       "400,000 - 600,000    2947\n",
       "200,000 - 400,000    2800\n",
       "20,000 - 200,000     1029\n",
       "Name: price_group, dtype: int64"
      ]
     },
     "metadata": {},
     "execution_count": 30
    }
   ],
   "source": [
    "prepared_decade[\"price_group\"].value_counts()"
   ]
  },
  {
   "cell_type": "code",
   "execution_count": 31,
   "metadata": {},
   "outputs": [
    {
     "output_type": "execute_result",
     "data": {
      "text/plain": [
       "0.41876822782638534"
      ]
     },
     "metadata": {},
     "execution_count": 31
    }
   ],
   "source": [
    "4882 / (prepared_decade[\"price_group\"].value_counts().sum())"
   ]
  },
  {
   "source": [
    "Conclusion: Better to train on as many cars as possible. Subset model guesses the highest price group on almost every record at low depth, and higher depth model loses accuracy quickly. "
   ],
   "cell_type": "markdown",
   "metadata": {}
  }
 ]
}