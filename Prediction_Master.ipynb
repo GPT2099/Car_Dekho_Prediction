{
 "metadata": {
  "language_info": {
   "codemirror_mode": {
    "name": "ipython",
    "version": 3
   },
   "file_extension": ".py",
   "mimetype": "text/x-python",
   "name": "python",
   "nbconvert_exporter": "python",
   "pygments_lexer": "ipython3",
   "version": "3.7.9"
  },
  "orig_nbformat": 2,
  "kernelspec": {
   "name": "python379jvsc74a57bd01323ab88a6f9459fb8f40aaa3e9be02fdd1e64e02e1c290cdd414cfd6c971c86",
   "display_name": "Python 3.7.9 64-bit ('PythonData2': conda)"
  }
 },
 "nbformat": 4,
 "nbformat_minor": 2,
 "cells": [
  {
   "cell_type": "code",
   "execution_count": 72,
   "metadata": {},
   "outputs": [],
   "source": [
    "import pandas as pd\n",
    "import numpy as np\n",
    "import matplotlib.pyplot as plt\n",
    "import seaborn as sns\n",
    "\n",
    "from sklearn.preprocessing import StandardScaler\n",
    "from sklearn.preprocessing import MinMaxScaler\n",
    "from sklearn.linear_model import LinearRegression\n",
    "from sklearn.model_selection import train_test_split\n",
    "from sklearn.ensemble import RandomForestRegressor\n",
    "from sklearn.ensemble import RandomForestClassifier\n",
    "from sklearn.dummy import DummyRegressor\n",
    "from sklearn.preprocessing import OneHotEncoder\n",
    "from sklearn.metrics import confusion_matrix, classification_report \n",
    "from sklearn.tree import DecisionTreeClassifier"
   ]
  },
  {
   "cell_type": "code",
   "execution_count": 59,
   "metadata": {},
   "outputs": [],
   "source": [
    "car_data = pd.read_csv(\"Resources/master_data.csv\", index_col=0)"
   ]
  },
  {
   "cell_type": "code",
   "execution_count": 60,
   "metadata": {},
   "outputs": [
    {
     "output_type": "execute_result",
     "data": {
      "text/plain": [
       "                           name  year  selling_price  km_driven    fuel  \\\n",
       "0        Maruti Swift Dzire VDI  2014         450000     145500  Diesel   \n",
       "1  Skoda Rapid 1.5 TDI Ambition  2014         370000     120000  Diesel   \n",
       "2      Honda City 2017-2020 EXi  2006         158000     140000  Petrol   \n",
       "3     Hyundai i20 Sportz Diesel  2010         225000     127000  Diesel   \n",
       "4        Maruti Swift VXI BSIII  2007         130000     120000  Petrol   \n",
       "\n",
       "  seller_type transmission         owner manufacturer        price_group  \n",
       "0  Individual       Manual   First Owner       Maruti  400,000 - 600,000  \n",
       "1  Individual       Manual  Second Owner        Skoda  200,000 - 400,000  \n",
       "2  Individual       Manual   Third Owner        Honda        0 - 200,000  \n",
       "3  Individual       Manual   First Owner      Hyundai  200,000 - 400,000  \n",
       "4  Individual       Manual   First Owner       Maruti        0 - 200,000  "
      ],
      "text/html": "<div>\n<style scoped>\n    .dataframe tbody tr th:only-of-type {\n        vertical-align: middle;\n    }\n\n    .dataframe tbody tr th {\n        vertical-align: top;\n    }\n\n    .dataframe thead th {\n        text-align: right;\n    }\n</style>\n<table border=\"1\" class=\"dataframe\">\n  <thead>\n    <tr style=\"text-align: right;\">\n      <th></th>\n      <th>name</th>\n      <th>year</th>\n      <th>selling_price</th>\n      <th>km_driven</th>\n      <th>fuel</th>\n      <th>seller_type</th>\n      <th>transmission</th>\n      <th>owner</th>\n      <th>manufacturer</th>\n      <th>price_group</th>\n    </tr>\n  </thead>\n  <tbody>\n    <tr>\n      <th>0</th>\n      <td>Maruti Swift Dzire VDI</td>\n      <td>2014</td>\n      <td>450000</td>\n      <td>145500</td>\n      <td>Diesel</td>\n      <td>Individual</td>\n      <td>Manual</td>\n      <td>First Owner</td>\n      <td>Maruti</td>\n      <td>400,000 - 600,000</td>\n    </tr>\n    <tr>\n      <th>1</th>\n      <td>Skoda Rapid 1.5 TDI Ambition</td>\n      <td>2014</td>\n      <td>370000</td>\n      <td>120000</td>\n      <td>Diesel</td>\n      <td>Individual</td>\n      <td>Manual</td>\n      <td>Second Owner</td>\n      <td>Skoda</td>\n      <td>200,000 - 400,000</td>\n    </tr>\n    <tr>\n      <th>2</th>\n      <td>Honda City 2017-2020 EXi</td>\n      <td>2006</td>\n      <td>158000</td>\n      <td>140000</td>\n      <td>Petrol</td>\n      <td>Individual</td>\n      <td>Manual</td>\n      <td>Third Owner</td>\n      <td>Honda</td>\n      <td>0 - 200,000</td>\n    </tr>\n    <tr>\n      <th>3</th>\n      <td>Hyundai i20 Sportz Diesel</td>\n      <td>2010</td>\n      <td>225000</td>\n      <td>127000</td>\n      <td>Diesel</td>\n      <td>Individual</td>\n      <td>Manual</td>\n      <td>First Owner</td>\n      <td>Hyundai</td>\n      <td>200,000 - 400,000</td>\n    </tr>\n    <tr>\n      <th>4</th>\n      <td>Maruti Swift VXI BSIII</td>\n      <td>2007</td>\n      <td>130000</td>\n      <td>120000</td>\n      <td>Petrol</td>\n      <td>Individual</td>\n      <td>Manual</td>\n      <td>First Owner</td>\n      <td>Maruti</td>\n      <td>0 - 200,000</td>\n    </tr>\n  </tbody>\n</table>\n</div>"
     },
     "metadata": {},
     "execution_count": 60
    }
   ],
   "source": [
    "car_data.head()"
   ]
  },
  {
   "cell_type": "code",
   "execution_count": 61,
   "metadata": {},
   "outputs": [],
   "source": [
    "# Switch between including manufacturer in modelling or not:\n",
    "include_manufacturer = False"
   ]
  },
  {
   "cell_type": "code",
   "execution_count": 62,
   "metadata": {},
   "outputs": [],
   "source": [
    "if include_manufacturer:\n",
    "    car_names = car_data.pop(\"name\")\n",
    "else:\n",
    "    car_names = car_data.pop(\"name\")\n",
    "    car_makes = car_data.pop(\"manufacturer\")"
   ]
  },
  {
   "cell_type": "code",
   "execution_count": 63,
   "metadata": {},
   "outputs": [
    {
     "output_type": "execute_result",
     "data": {
      "text/plain": [
       "   year  selling_price  km_driven    fuel seller_type transmission  \\\n",
       "0  2014         450000     145500  Diesel  Individual       Manual   \n",
       "1  2014         370000     120000  Diesel  Individual       Manual   \n",
       "2  2006         158000     140000  Petrol  Individual       Manual   \n",
       "3  2010         225000     127000  Diesel  Individual       Manual   \n",
       "4  2007         130000     120000  Petrol  Individual       Manual   \n",
       "\n",
       "          owner        price_group  \n",
       "0   First Owner  400,000 - 600,000  \n",
       "1  Second Owner  200,000 - 400,000  \n",
       "2   Third Owner        0 - 200,000  \n",
       "3   First Owner  200,000 - 400,000  \n",
       "4   First Owner        0 - 200,000  "
      ],
      "text/html": "<div>\n<style scoped>\n    .dataframe tbody tr th:only-of-type {\n        vertical-align: middle;\n    }\n\n    .dataframe tbody tr th {\n        vertical-align: top;\n    }\n\n    .dataframe thead th {\n        text-align: right;\n    }\n</style>\n<table border=\"1\" class=\"dataframe\">\n  <thead>\n    <tr style=\"text-align: right;\">\n      <th></th>\n      <th>year</th>\n      <th>selling_price</th>\n      <th>km_driven</th>\n      <th>fuel</th>\n      <th>seller_type</th>\n      <th>transmission</th>\n      <th>owner</th>\n      <th>price_group</th>\n    </tr>\n  </thead>\n  <tbody>\n    <tr>\n      <th>0</th>\n      <td>2014</td>\n      <td>450000</td>\n      <td>145500</td>\n      <td>Diesel</td>\n      <td>Individual</td>\n      <td>Manual</td>\n      <td>First Owner</td>\n      <td>400,000 - 600,000</td>\n    </tr>\n    <tr>\n      <th>1</th>\n      <td>2014</td>\n      <td>370000</td>\n      <td>120000</td>\n      <td>Diesel</td>\n      <td>Individual</td>\n      <td>Manual</td>\n      <td>Second Owner</td>\n      <td>200,000 - 400,000</td>\n    </tr>\n    <tr>\n      <th>2</th>\n      <td>2006</td>\n      <td>158000</td>\n      <td>140000</td>\n      <td>Petrol</td>\n      <td>Individual</td>\n      <td>Manual</td>\n      <td>Third Owner</td>\n      <td>0 - 200,000</td>\n    </tr>\n    <tr>\n      <th>3</th>\n      <td>2010</td>\n      <td>225000</td>\n      <td>127000</td>\n      <td>Diesel</td>\n      <td>Individual</td>\n      <td>Manual</td>\n      <td>First Owner</td>\n      <td>200,000 - 400,000</td>\n    </tr>\n    <tr>\n      <th>4</th>\n      <td>2007</td>\n      <td>130000</td>\n      <td>120000</td>\n      <td>Petrol</td>\n      <td>Individual</td>\n      <td>Manual</td>\n      <td>First Owner</td>\n      <td>0 - 200,000</td>\n    </tr>\n  </tbody>\n</table>\n</div>"
     },
     "metadata": {},
     "execution_count": 63
    }
   ],
   "source": [
    "# Preview the data\n",
    "car_data.head()"
   ]
  },
  {
   "cell_type": "code",
   "execution_count": 64,
   "metadata": {},
   "outputs": [
    {
     "output_type": "execute_result",
     "data": {
      "text/plain": [
       "year              int64\n",
       "selling_price     int64\n",
       "km_driven         int64\n",
       "fuel             object\n",
       "seller_type      object\n",
       "transmission     object\n",
       "owner            object\n",
       "price_group      object\n",
       "dtype: object"
      ]
     },
     "metadata": {},
     "execution_count": 64
    }
   ],
   "source": [
    "# Check that inferred datatypes are correct\n",
    "car_data.dtypes"
   ]
  },
  {
   "cell_type": "code",
   "execution_count": 65,
   "metadata": {},
   "outputs": [],
   "source": [
    "# Split off the target (price group) before One-Hot Encoding\n",
    "target = car_data[\"price_group\"]\n",
    "\n",
    "# Selling Price data will be used to verify model, but won't be useful for training the model\n",
    "selling_prices = car_data[\"selling_price\"]\n",
    "\n",
    "car_data = car_data.drop([\"price_group\", \"selling_price\"], axis=1)"
   ]
  },
  {
   "cell_type": "code",
   "execution_count": 66,
   "metadata": {},
   "outputs": [
    {
     "output_type": "execute_result",
     "data": {
      "text/plain": [
       "fuel            3\n",
       "seller_type     3\n",
       "transmission    2\n",
       "owner           4\n",
       "dtype: int64"
      ]
     },
     "metadata": {},
     "execution_count": 66
    }
   ],
   "source": [
    "# Split off categorical data \n",
    "cars_cat = car_data.dtypes[car_data.dtypes == \"object\"].index.tolist()\n",
    "car_data[cars_cat].nunique()"
   ]
  },
  {
   "cell_type": "code",
   "execution_count": 67,
   "metadata": {},
   "outputs": [
    {
     "output_type": "execute_result",
     "data": {
      "text/plain": [
       "   fuel_Diesel  fuel_Other  fuel_Petrol  seller_type_Dealer  \\\n",
       "0          1.0         0.0          0.0                 0.0   \n",
       "1          1.0         0.0          0.0                 0.0   \n",
       "2          0.0         0.0          1.0                 0.0   \n",
       "3          1.0         0.0          0.0                 0.0   \n",
       "4          0.0         0.0          1.0                 0.0   \n",
       "\n",
       "   seller_type_Individual  seller_type_Trustmark Dealer  \\\n",
       "0                     1.0                           0.0   \n",
       "1                     1.0                           0.0   \n",
       "2                     1.0                           0.0   \n",
       "3                     1.0                           0.0   \n",
       "4                     1.0                           0.0   \n",
       "\n",
       "   transmission_Automatic  transmission_Manual  owner_First Owner  \\\n",
       "0                     0.0                  1.0                1.0   \n",
       "1                     0.0                  1.0                0.0   \n",
       "2                     0.0                  1.0                0.0   \n",
       "3                     0.0                  1.0                1.0   \n",
       "4                     0.0                  1.0                1.0   \n",
       "\n",
       "   owner_Fourth & Above Owner  owner_Second Owner  owner_Third Owner  \n",
       "0                         0.0                 0.0                0.0  \n",
       "1                         0.0                 1.0                0.0  \n",
       "2                         0.0                 0.0                1.0  \n",
       "3                         0.0                 0.0                0.0  \n",
       "4                         0.0                 0.0                0.0  "
      ],
      "text/html": "<div>\n<style scoped>\n    .dataframe tbody tr th:only-of-type {\n        vertical-align: middle;\n    }\n\n    .dataframe tbody tr th {\n        vertical-align: top;\n    }\n\n    .dataframe thead th {\n        text-align: right;\n    }\n</style>\n<table border=\"1\" class=\"dataframe\">\n  <thead>\n    <tr style=\"text-align: right;\">\n      <th></th>\n      <th>fuel_Diesel</th>\n      <th>fuel_Other</th>\n      <th>fuel_Petrol</th>\n      <th>seller_type_Dealer</th>\n      <th>seller_type_Individual</th>\n      <th>seller_type_Trustmark Dealer</th>\n      <th>transmission_Automatic</th>\n      <th>transmission_Manual</th>\n      <th>owner_First Owner</th>\n      <th>owner_Fourth &amp; Above Owner</th>\n      <th>owner_Second Owner</th>\n      <th>owner_Third Owner</th>\n    </tr>\n  </thead>\n  <tbody>\n    <tr>\n      <th>0</th>\n      <td>1.0</td>\n      <td>0.0</td>\n      <td>0.0</td>\n      <td>0.0</td>\n      <td>1.0</td>\n      <td>0.0</td>\n      <td>0.0</td>\n      <td>1.0</td>\n      <td>1.0</td>\n      <td>0.0</td>\n      <td>0.0</td>\n      <td>0.0</td>\n    </tr>\n    <tr>\n      <th>1</th>\n      <td>1.0</td>\n      <td>0.0</td>\n      <td>0.0</td>\n      <td>0.0</td>\n      <td>1.0</td>\n      <td>0.0</td>\n      <td>0.0</td>\n      <td>1.0</td>\n      <td>0.0</td>\n      <td>0.0</td>\n      <td>1.0</td>\n      <td>0.0</td>\n    </tr>\n    <tr>\n      <th>2</th>\n      <td>0.0</td>\n      <td>0.0</td>\n      <td>1.0</td>\n      <td>0.0</td>\n      <td>1.0</td>\n      <td>0.0</td>\n      <td>0.0</td>\n      <td>1.0</td>\n      <td>0.0</td>\n      <td>0.0</td>\n      <td>0.0</td>\n      <td>1.0</td>\n    </tr>\n    <tr>\n      <th>3</th>\n      <td>1.0</td>\n      <td>0.0</td>\n      <td>0.0</td>\n      <td>0.0</td>\n      <td>1.0</td>\n      <td>0.0</td>\n      <td>0.0</td>\n      <td>1.0</td>\n      <td>1.0</td>\n      <td>0.0</td>\n      <td>0.0</td>\n      <td>0.0</td>\n    </tr>\n    <tr>\n      <th>4</th>\n      <td>0.0</td>\n      <td>0.0</td>\n      <td>1.0</td>\n      <td>0.0</td>\n      <td>1.0</td>\n      <td>0.0</td>\n      <td>0.0</td>\n      <td>1.0</td>\n      <td>1.0</td>\n      <td>0.0</td>\n      <td>0.0</td>\n      <td>0.0</td>\n    </tr>\n  </tbody>\n</table>\n</div>"
     },
     "metadata": {},
     "execution_count": 67
    }
   ],
   "source": [
    "# Create a OneHotEncoder instance\n",
    "enc = OneHotEncoder(sparse=False)\n",
    "\n",
    "# Fit and transform the OneHotEncoder using the categorical variable list\n",
    "encode_df = pd.DataFrame(enc.fit_transform(car_data[cars_cat]))\n",
    "\n",
    "# Add the encoded variable names to the DataFrame\n",
    "encode_df.columns = enc.get_feature_names(cars_cat)\n",
    "encode_df.head()"
   ]
  },
  {
   "cell_type": "code",
   "execution_count": 68,
   "metadata": {},
   "outputs": [
    {
     "output_type": "execute_result",
     "data": {
      "text/plain": [
       "   year  km_driven  fuel_Diesel  fuel_Other  fuel_Petrol  seller_type_Dealer  \\\n",
       "0  2014     145500          1.0         0.0          0.0                 0.0   \n",
       "0  2014     145500          1.0         0.0          0.0                 0.0   \n",
       "0  2007      70000          1.0         0.0          0.0                 0.0   \n",
       "0  2007      70000          1.0         0.0          0.0                 0.0   \n",
       "1  2014     120000          1.0         0.0          0.0                 0.0   \n",
       "\n",
       "   seller_type_Individual  seller_type_Trustmark Dealer  \\\n",
       "0                     1.0                           0.0   \n",
       "0                     1.0                           0.0   \n",
       "0                     1.0                           0.0   \n",
       "0                     1.0                           0.0   \n",
       "1                     1.0                           0.0   \n",
       "\n",
       "   transmission_Automatic  transmission_Manual  owner_First Owner  \\\n",
       "0                     0.0                  1.0                1.0   \n",
       "0                     0.0                  1.0                1.0   \n",
       "0                     0.0                  1.0                1.0   \n",
       "0                     0.0                  1.0                1.0   \n",
       "1                     0.0                  1.0                0.0   \n",
       "\n",
       "   owner_Fourth & Above Owner  owner_Second Owner  owner_Third Owner  \\\n",
       "0                         0.0                 0.0                0.0   \n",
       "0                         0.0                 0.0                0.0   \n",
       "0                         0.0                 0.0                0.0   \n",
       "0                         0.0                 0.0                0.0   \n",
       "1                         0.0                 1.0                0.0   \n",
       "\n",
       "         price_group  \n",
       "0  400,000 - 600,000  \n",
       "0        0 - 200,000  \n",
       "0  400,000 - 600,000  \n",
       "0        0 - 200,000  \n",
       "1  200,000 - 400,000  "
      ],
      "text/html": "<div>\n<style scoped>\n    .dataframe tbody tr th:only-of-type {\n        vertical-align: middle;\n    }\n\n    .dataframe tbody tr th {\n        vertical-align: top;\n    }\n\n    .dataframe thead th {\n        text-align: right;\n    }\n</style>\n<table border=\"1\" class=\"dataframe\">\n  <thead>\n    <tr style=\"text-align: right;\">\n      <th></th>\n      <th>year</th>\n      <th>km_driven</th>\n      <th>fuel_Diesel</th>\n      <th>fuel_Other</th>\n      <th>fuel_Petrol</th>\n      <th>seller_type_Dealer</th>\n      <th>seller_type_Individual</th>\n      <th>seller_type_Trustmark Dealer</th>\n      <th>transmission_Automatic</th>\n      <th>transmission_Manual</th>\n      <th>owner_First Owner</th>\n      <th>owner_Fourth &amp; Above Owner</th>\n      <th>owner_Second Owner</th>\n      <th>owner_Third Owner</th>\n      <th>price_group</th>\n    </tr>\n  </thead>\n  <tbody>\n    <tr>\n      <th>0</th>\n      <td>2014</td>\n      <td>145500</td>\n      <td>1.0</td>\n      <td>0.0</td>\n      <td>0.0</td>\n      <td>0.0</td>\n      <td>1.0</td>\n      <td>0.0</td>\n      <td>0.0</td>\n      <td>1.0</td>\n      <td>1.0</td>\n      <td>0.0</td>\n      <td>0.0</td>\n      <td>0.0</td>\n      <td>400,000 - 600,000</td>\n    </tr>\n    <tr>\n      <th>0</th>\n      <td>2014</td>\n      <td>145500</td>\n      <td>1.0</td>\n      <td>0.0</td>\n      <td>0.0</td>\n      <td>0.0</td>\n      <td>1.0</td>\n      <td>0.0</td>\n      <td>0.0</td>\n      <td>1.0</td>\n      <td>1.0</td>\n      <td>0.0</td>\n      <td>0.0</td>\n      <td>0.0</td>\n      <td>0 - 200,000</td>\n    </tr>\n    <tr>\n      <th>0</th>\n      <td>2007</td>\n      <td>70000</td>\n      <td>1.0</td>\n      <td>0.0</td>\n      <td>0.0</td>\n      <td>0.0</td>\n      <td>1.0</td>\n      <td>0.0</td>\n      <td>0.0</td>\n      <td>1.0</td>\n      <td>1.0</td>\n      <td>0.0</td>\n      <td>0.0</td>\n      <td>0.0</td>\n      <td>400,000 - 600,000</td>\n    </tr>\n    <tr>\n      <th>0</th>\n      <td>2007</td>\n      <td>70000</td>\n      <td>1.0</td>\n      <td>0.0</td>\n      <td>0.0</td>\n      <td>0.0</td>\n      <td>1.0</td>\n      <td>0.0</td>\n      <td>0.0</td>\n      <td>1.0</td>\n      <td>1.0</td>\n      <td>0.0</td>\n      <td>0.0</td>\n      <td>0.0</td>\n      <td>0 - 200,000</td>\n    </tr>\n    <tr>\n      <th>1</th>\n      <td>2014</td>\n      <td>120000</td>\n      <td>1.0</td>\n      <td>0.0</td>\n      <td>0.0</td>\n      <td>0.0</td>\n      <td>1.0</td>\n      <td>0.0</td>\n      <td>0.0</td>\n      <td>1.0</td>\n      <td>0.0</td>\n      <td>0.0</td>\n      <td>1.0</td>\n      <td>0.0</td>\n      <td>200,000 - 400,000</td>\n    </tr>\n  </tbody>\n</table>\n</div>"
     },
     "metadata": {},
     "execution_count": 68
    }
   ],
   "source": [
    "prepared_data = car_data.merge(encode_df, left_index=True, right_index=True)\n",
    "prepared_data = prepared_data.drop(cars_cat, axis=1)\n",
    "prepared_data = prepared_data.merge(target, left_index=True, right_index=True)\n",
    "\n",
    "prepared_data.head()"
   ]
  },
  {
   "cell_type": "code",
   "execution_count": 69,
   "metadata": {},
   "outputs": [],
   "source": [
    "# Split model into train/test groups\n",
    "X = prepared_data.drop(columns=['price_group'])\n",
    "y = prepared_data['price_group']\n",
    "X_train, X_test, y_train, y_test = train_test_split(X, y, test_size=0.2, random_state = 42)"
   ]
  },
  {
   "cell_type": "code",
   "execution_count": 96,
   "metadata": {},
   "outputs": [],
   "source": [
    "# Train Decision Tree model\n",
    "dtree_model = DecisionTreeClassifier(max_depth = 7).fit(X_train, y_train)\n",
    "dtree_predictions = dtree_model.predict(X_test)"
   ]
  },
  {
   "cell_type": "code",
   "execution_count": 97,
   "metadata": {},
   "outputs": [
    {
     "output_type": "stream",
     "name": "stdout",
     "text": [
      "0.3723631192225646\n"
     ]
    }
   ],
   "source": [
    "from sklearn.metrics import accuracy_score\n",
    "print(accuracy_score(y_test, dtree_predictions))"
   ]
  },
  {
   "cell_type": "code",
   "execution_count": 98,
   "metadata": {},
   "outputs": [
    {
     "output_type": "execute_result",
     "data": {
      "text/plain": [
       "            Test Target   Model Prediction\n",
       "4253           800,000+        0 - 200,000\n",
       "2316        0 - 200,000  200,000 - 400,000\n",
       "578   400,000 - 600,000  200,000 - 400,000\n",
       "3078           800,000+           800,000+\n",
       "598   600,000 - 800,000  200,000 - 400,000"
      ],
      "text/html": "<div>\n<style scoped>\n    .dataframe tbody tr th:only-of-type {\n        vertical-align: middle;\n    }\n\n    .dataframe tbody tr th {\n        vertical-align: top;\n    }\n\n    .dataframe thead th {\n        text-align: right;\n    }\n</style>\n<table border=\"1\" class=\"dataframe\">\n  <thead>\n    <tr style=\"text-align: right;\">\n      <th></th>\n      <th>Test Target</th>\n      <th>Model Prediction</th>\n    </tr>\n  </thead>\n  <tbody>\n    <tr>\n      <th>4253</th>\n      <td>800,000+</td>\n      <td>0 - 200,000</td>\n    </tr>\n    <tr>\n      <th>2316</th>\n      <td>0 - 200,000</td>\n      <td>200,000 - 400,000</td>\n    </tr>\n    <tr>\n      <th>578</th>\n      <td>400,000 - 600,000</td>\n      <td>200,000 - 400,000</td>\n    </tr>\n    <tr>\n      <th>3078</th>\n      <td>800,000+</td>\n      <td>800,000+</td>\n    </tr>\n    <tr>\n      <th>598</th>\n      <td>600,000 - 800,000</td>\n      <td>200,000 - 400,000</td>\n    </tr>\n  </tbody>\n</table>\n</div>"
     },
     "metadata": {},
     "execution_count": 98
    }
   ],
   "source": [
    "test_pred = pd.DataFrame({\"Test Target\" : y_test, \"Model Prediction\" : dtree_predictions})\n",
    "test_pred.head()"
   ]
  },
  {
   "cell_type": "code",
   "execution_count": 71,
   "metadata": {},
   "outputs": [],
   "source": [
    "# TODO: Test model with OHE'd manufacturer data and see if it improves model accuracy\n",
    "# TODO: Test additional binning of manufacturer (Ex: \"Luxury Brand\" or \"Non-Luxury Brand\", or by manufacturer vountry) "
   ]
  }
 ]
}