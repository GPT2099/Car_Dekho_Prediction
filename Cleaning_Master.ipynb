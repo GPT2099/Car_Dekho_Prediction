{
 "metadata": {
  "language_info": {
   "codemirror_mode": {
    "name": "ipython",
    "version": 3
   },
   "file_extension": ".py",
   "mimetype": "text/x-python",
   "name": "python",
   "nbconvert_exporter": "python",
   "pygments_lexer": "ipython3",
   "version": "3.7.9"
  },
  "orig_nbformat": 2,
  "kernelspec": {
   "name": "python379jvsc74a57bd01323ab88a6f9459fb8f40aaa3e9be02fdd1e64e02e1c290cdd414cfd6c971c86",
   "display_name": "Python 3.7.9 64-bit ('PythonData2': conda)"
  }
 },
 "nbformat": 4,
 "nbformat_minor": 2,
 "cells": [
  {
   "cell_type": "code",
   "execution_count": 221,
   "metadata": {},
   "outputs": [],
   "source": [
    "import pandas as pd\n",
    "import numpy as np\n",
    "import matplotlib.pyplot as plt"
   ]
  },
  {
   "cell_type": "code",
   "execution_count": 222,
   "metadata": {},
   "outputs": [],
   "source": [
    "df_one = pd.read_csv('Resources/Car details v3.csv')\n",
    "df_two = pd.read_csv('Resources/CAR DETAILS FROM CAR DEKHO.csv')"
   ]
  },
  {
   "cell_type": "code",
   "execution_count": 223,
   "metadata": {},
   "outputs": [],
   "source": [
    "def compareCounts(df_one, df_two, colName):\n",
    "    print(f\"df_one {colName} value counts:\")\n",
    "    print(df_one[colName].value_counts())\n",
    "    print(\"\\n\")\n",
    "    print(f\"df_two {colName} value counts: \")\n",
    "    print(df_two[colName].value_counts())"
   ]
  },
  {
   "source": [
    "## Drop unneeded columns"
   ],
   "cell_type": "markdown",
   "metadata": {}
  },
  {
   "cell_type": "code",
   "execution_count": 224,
   "metadata": {},
   "outputs": [
    {
     "output_type": "execute_result",
     "data": {
      "text/plain": [
       "name              object\n",
       "year               int64\n",
       "selling_price      int64\n",
       "km_driven          int64\n",
       "fuel              object\n",
       "seller_type       object\n",
       "transmission      object\n",
       "owner             object\n",
       "mileage           object\n",
       "engine            object\n",
       "max_power         object\n",
       "torque            object\n",
       "seats            float64\n",
       "dtype: object"
      ]
     },
     "metadata": {},
     "execution_count": 224
    }
   ],
   "source": [
    "df_one.dtypes"
   ]
  },
  {
   "cell_type": "code",
   "execution_count": 225,
   "metadata": {},
   "outputs": [
    {
     "output_type": "execute_result",
     "data": {
      "text/plain": [
       "name             object\n",
       "year              int64\n",
       "selling_price     int64\n",
       "km_driven         int64\n",
       "fuel             object\n",
       "seller_type      object\n",
       "transmission     object\n",
       "owner            object\n",
       "dtype: object"
      ]
     },
     "metadata": {},
     "execution_count": 225
    }
   ],
   "source": [
    "df_one = df_one.drop(['mileage','engine','max_power','torque','seats'], axis=1)\n",
    "df_one.dtypes"
   ]
  },
  {
   "cell_type": "code",
   "execution_count": 226,
   "metadata": {},
   "outputs": [
    {
     "output_type": "execute_result",
     "data": {
      "text/plain": [
       "name             object\n",
       "year              int64\n",
       "selling_price     int64\n",
       "km_driven         int64\n",
       "fuel             object\n",
       "seller_type      object\n",
       "transmission     object\n",
       "owner            object\n",
       "dtype: object"
      ]
     },
     "metadata": {},
     "execution_count": 226
    }
   ],
   "source": [
    "df_two.dtypes"
   ]
  },
  {
   "source": [
    "## Fuel Type Cleanup"
   ],
   "cell_type": "markdown",
   "metadata": {}
  },
  {
   "cell_type": "code",
   "execution_count": 227,
   "metadata": {},
   "outputs": [
    {
     "output_type": "stream",
     "name": "stdout",
     "text": [
      "df_one fuel value counts:\nDiesel    4402\nPetrol    3631\nCNG         57\nLPG         38\nName: fuel, dtype: int64\n\n\ndf_two fuel value counts: \nDiesel      2153\nPetrol      2123\nCNG           40\nLPG           23\nElectric       1\nName: fuel, dtype: int64\n"
     ]
    }
   ],
   "source": [
    "compareCounts(df_one, df_two, \"fuel\")"
   ]
  },
  {
   "cell_type": "code",
   "execution_count": 228,
   "metadata": {},
   "outputs": [],
   "source": [
    "df_one[\"fuel\"] = df_one[\"fuel\"].replace({\"CNG\" : \"Other\", \"LPG\" : \"Other\"})\n",
    "df_two[\"fuel\"] = df_two[\"fuel\"].replace({\"CNG\" : \"Other\", \"LPG\" : \"Other\", \"Electric\" : \"Other\"})"
   ]
  },
  {
   "cell_type": "code",
   "execution_count": 229,
   "metadata": {},
   "outputs": [
    {
     "output_type": "stream",
     "name": "stdout",
     "text": [
      "df_one fuel value counts:\nDiesel    4402\nPetrol    3631\nOther       95\nName: fuel, dtype: int64\n\n\ndf_two fuel value counts: \nDiesel    2153\nPetrol    2123\nOther       64\nName: fuel, dtype: int64\n"
     ]
    }
   ],
   "source": [
    "compareCounts(df_one, df_two, \"fuel\")"
   ]
  },
  {
   "source": [
    "## Seller Type Cleanup"
   ],
   "cell_type": "markdown",
   "metadata": {}
  },
  {
   "cell_type": "code",
   "execution_count": 230,
   "metadata": {},
   "outputs": [
    {
     "output_type": "stream",
     "name": "stdout",
     "text": [
      "df_one seller_type value counts:\nIndividual          6766\nDealer              1126\nTrustmark Dealer     236\nName: seller_type, dtype: int64\n\n\ndf_two seller_type value counts: \nIndividual          3244\nDealer               994\nTrustmark Dealer     102\nName: seller_type, dtype: int64\n"
     ]
    }
   ],
   "source": [
    "compareCounts(df_one, df_two, \"seller_type\")"
   ]
  },
  {
   "source": [
    "## Transmission Cleanup"
   ],
   "cell_type": "markdown",
   "metadata": {}
  },
  {
   "cell_type": "code",
   "execution_count": 231,
   "metadata": {},
   "outputs": [
    {
     "output_type": "stream",
     "name": "stdout",
     "text": [
      "df_one transmission value counts:\nManual       7078\nAutomatic    1050\nName: transmission, dtype: int64\n\n\ndf_two transmission value counts: \nManual       3892\nAutomatic     448\nName: transmission, dtype: int64\n"
     ]
    }
   ],
   "source": [
    "compareCounts(df_one, df_two, \"transmission\")"
   ]
  },
  {
   "source": [
    "## Owner cleanup"
   ],
   "cell_type": "markdown",
   "metadata": {}
  },
  {
   "cell_type": "code",
   "execution_count": 232,
   "metadata": {},
   "outputs": [
    {
     "output_type": "stream",
     "name": "stdout",
     "text": [
      "df_one owner value counts:\nFirst Owner             5289\nSecond Owner            2105\nThird Owner              555\nFourth & Above Owner     174\nTest Drive Car             5\nName: owner, dtype: int64\n\n\ndf_two owner value counts: \nFirst Owner             2832\nSecond Owner            1106\nThird Owner              304\nFourth & Above Owner      81\nTest Drive Car            17\nName: owner, dtype: int64\n"
     ]
    }
   ],
   "source": [
    "compareCounts(df_one, df_two, \"owner\")"
   ]
  },
  {
   "cell_type": "code",
   "execution_count": 233,
   "metadata": {},
   "outputs": [],
   "source": [
    "# Drop records that have \"Test Drive Car\" as owner\n",
    "df_one = df_one[~df_one[\"owner\"].isin(['Test Drive Car'])]\n",
    "df_two = df_two[~df_two[\"owner\"].isin(['Test Drive Car'])]"
   ]
  },
  {
   "source": [
    "## Sanity Check Numerical Columns"
   ],
   "cell_type": "markdown",
   "metadata": {}
  },
  {
   "cell_type": "code",
   "execution_count": 234,
   "metadata": {},
   "outputs": [
    {
     "output_type": "stream",
     "name": "stdout",
     "text": [
      "count   8123.00\nmean    2013.80\nstd        4.04\nmin     1983.00\n25%     2011.00\n50%     2015.00\n75%     2017.00\nmax     2020.00\nName: year, dtype: float64 \n\ncount   4323.00\nmean    2013.07\nstd        4.20\nmin     1992.00\n25%     2011.00\n50%     2014.00\n75%     2016.00\nmax     2020.00\nName: year, dtype: float64\n"
     ]
    }
   ],
   "source": [
    "print(df_one[\"year\"].describe(), \"\\n\")\n",
    "print(df_two[\"year\"].describe())"
   ]
  },
  {
   "cell_type": "code",
   "execution_count": 235,
   "metadata": {},
   "outputs": [
    {
     "output_type": "stream",
     "name": "stdout",
     "text": [
      "count       8123.00\nmean      635953.99\nstd       799128.43\nmin        29999.00\n25%       254499.50\n50%       450000.00\n75%       675000.00\nmax     10000000.00\nName: selling_price, dtype: float64 \n\ncount      4323.00\nmean     502357.05\nstd      578794.36\nmin       20000.00\n25%      202999.00\n50%      350000.00\n75%      600000.00\nmax     8900000.00\nName: selling_price, dtype: float64\n"
     ]
    }
   ],
   "source": [
    "pd.set_option('display.float_format', lambda x: '%.2f' % x)\n",
    "print(df_one[\"selling_price\"].describe(), \"\\n\")\n",
    "print(df_two[\"selling_price\"].describe())"
   ]
  },
  {
   "cell_type": "code",
   "execution_count": 236,
   "metadata": {},
   "outputs": [
    {
     "output_type": "stream",
     "name": "stdout",
     "text": [
      "count      8123.00\nmean      69853.48\nstd       56551.02\nmin           1.00\n25%       35000.00\n50%       60000.00\n75%       98000.00\nmax     2360457.00\nName: km_driven, dtype: float64 \n\ncount     4323.00\nmean     66459.83\nstd      46570.97\nmin          1.00\n25%      35000.00\n50%      60000.00\n75%      90000.00\nmax     806599.00\nName: km_driven, dtype: float64\n"
     ]
    }
   ],
   "source": [
    "print(df_one[\"km_driven\"].describe(), \"\\n\")\n",
    "print(df_two[\"km_driven\"].describe())"
   ]
  },
  {
   "source": [
    "## Check for NA values"
   ],
   "cell_type": "markdown",
   "metadata": {}
  },
  {
   "cell_type": "code",
   "execution_count": 237,
   "metadata": {},
   "outputs": [
    {
     "output_type": "stream",
     "name": "stdout",
     "text": [
      "Total NA values in df_one:  0\nTotal NA values in df_two:  0\n"
     ]
    }
   ],
   "source": [
    "print(\"Total NA values in df_one: \", df_one.isnull().sum().sum())\n",
    "print(\"Total NA values in df_two: \", df_two.isnull().sum().sum())"
   ]
  },
  {
   "source": [
    "## Combine Prepared Data"
   ],
   "cell_type": "markdown",
   "metadata": {}
  },
  {
   "cell_type": "code",
   "execution_count": 238,
   "metadata": {},
   "outputs": [
    {
     "output_type": "stream",
     "name": "stdout",
     "text": [
      "name             object\nyear              int64\nselling_price     int64\nkm_driven         int64\nfuel             object\nseller_type      object\ntransmission     object\nowner            object\ndtype: object\nTotal records:  12446\n"
     ]
    },
    {
     "output_type": "execute_result",
     "data": {
      "text/plain": [
       "                           name  year  selling_price  km_driven    fuel  \\\n",
       "0        Maruti Swift Dzire VDI  2014         450000     145500  Diesel   \n",
       "1  Skoda Rapid 1.5 TDI Ambition  2014         370000     120000  Diesel   \n",
       "2      Honda City 2017-2020 EXi  2006         158000     140000  Petrol   \n",
       "3     Hyundai i20 Sportz Diesel  2010         225000     127000  Diesel   \n",
       "4        Maruti Swift VXI BSIII  2007         130000     120000  Petrol   \n",
       "\n",
       "  seller_type transmission         owner  \n",
       "0  Individual       Manual   First Owner  \n",
       "1  Individual       Manual  Second Owner  \n",
       "2  Individual       Manual   Third Owner  \n",
       "3  Individual       Manual   First Owner  \n",
       "4  Individual       Manual   First Owner  "
      ],
      "text/html": "<div>\n<style scoped>\n    .dataframe tbody tr th:only-of-type {\n        vertical-align: middle;\n    }\n\n    .dataframe tbody tr th {\n        vertical-align: top;\n    }\n\n    .dataframe thead th {\n        text-align: right;\n    }\n</style>\n<table border=\"1\" class=\"dataframe\">\n  <thead>\n    <tr style=\"text-align: right;\">\n      <th></th>\n      <th>name</th>\n      <th>year</th>\n      <th>selling_price</th>\n      <th>km_driven</th>\n      <th>fuel</th>\n      <th>seller_type</th>\n      <th>transmission</th>\n      <th>owner</th>\n    </tr>\n  </thead>\n  <tbody>\n    <tr>\n      <th>0</th>\n      <td>Maruti Swift Dzire VDI</td>\n      <td>2014</td>\n      <td>450000</td>\n      <td>145500</td>\n      <td>Diesel</td>\n      <td>Individual</td>\n      <td>Manual</td>\n      <td>First Owner</td>\n    </tr>\n    <tr>\n      <th>1</th>\n      <td>Skoda Rapid 1.5 TDI Ambition</td>\n      <td>2014</td>\n      <td>370000</td>\n      <td>120000</td>\n      <td>Diesel</td>\n      <td>Individual</td>\n      <td>Manual</td>\n      <td>Second Owner</td>\n    </tr>\n    <tr>\n      <th>2</th>\n      <td>Honda City 2017-2020 EXi</td>\n      <td>2006</td>\n      <td>158000</td>\n      <td>140000</td>\n      <td>Petrol</td>\n      <td>Individual</td>\n      <td>Manual</td>\n      <td>Third Owner</td>\n    </tr>\n    <tr>\n      <th>3</th>\n      <td>Hyundai i20 Sportz Diesel</td>\n      <td>2010</td>\n      <td>225000</td>\n      <td>127000</td>\n      <td>Diesel</td>\n      <td>Individual</td>\n      <td>Manual</td>\n      <td>First Owner</td>\n    </tr>\n    <tr>\n      <th>4</th>\n      <td>Maruti Swift VXI BSIII</td>\n      <td>2007</td>\n      <td>130000</td>\n      <td>120000</td>\n      <td>Petrol</td>\n      <td>Individual</td>\n      <td>Manual</td>\n      <td>First Owner</td>\n    </tr>\n  </tbody>\n</table>\n</div>"
     },
     "metadata": {},
     "execution_count": 238
    }
   ],
   "source": [
    "master_data = pd.concat([df_one, df_two])\n",
    "print(master_data.dtypes)\n",
    "print(\"Total records: \", master_data[\"name\"].count())\n",
    "master_data.head()"
   ]
  },
  {
   "source": [
    "## Feature Extraction: Manfacturer"
   ],
   "cell_type": "markdown",
   "metadata": {}
  },
  {
   "cell_type": "code",
   "execution_count": 239,
   "metadata": {},
   "outputs": [
    {
     "output_type": "execute_result",
     "data": {
      "text/plain": [
       "Maruti           3728\n",
       "Hyundai          2236\n",
       "Mahindra         1137\n",
       "Tata             1095\n",
       "Honda             716\n",
       "Toyota            694\n",
       "Ford              622\n",
       "Chevrolet         418\n",
       "Renault           373\n",
       "Volkswagen        291\n",
       "Skoda             173\n",
       "BMW               159\n",
       "Nissan            145\n",
       "Datsun            102\n",
       "Audi               97\n",
       "Mercedes-Benz      89\n",
       "Fiat               84\n",
       "Jaguar             77\n",
       "Volvo              71\n",
       "Lexus              34\n",
       "Jeep               34\n",
       "Mitsubishi         20\n",
       "Land               11\n",
       "Ambassador          8\n",
       "Force               7\n",
       "Isuzu               6\n",
       "Kia                 5\n",
       "MG                  5\n",
       "Daewoo              4\n",
       "OpelCorsa           2\n",
       "Opel                1\n",
       "Peugeot             1\n",
       "Ashok               1\n",
       "dtype: int64"
      ]
     },
     "metadata": {},
     "execution_count": 239
    }
   ],
   "source": [
    "# Extract first word from the field to attempt to identify Make of vehicle\n",
    "import re\n",
    "pattern = \"([^\\s]+)\"\n",
    "master_names = master_data[\"name\"].str.extract(pattern)\n",
    "master_names.value_counts()"
   ]
  },
  {
   "cell_type": "code",
   "execution_count": 240,
   "metadata": {},
   "outputs": [
    {
     "output_type": "execute_result",
     "data": {
      "text/plain": [
       "                           name  year  selling_price  km_driven    fuel  \\\n",
       "0        Maruti Swift Dzire VDI  2014         450000     145500  Diesel   \n",
       "1  Skoda Rapid 1.5 TDI Ambition  2014         370000     120000  Diesel   \n",
       "2      Honda City 2017-2020 EXi  2006         158000     140000  Petrol   \n",
       "3     Hyundai i20 Sportz Diesel  2010         225000     127000  Diesel   \n",
       "4        Maruti Swift VXI BSIII  2007         130000     120000  Petrol   \n",
       "\n",
       "  seller_type transmission         owner manufacturer  \n",
       "0  Individual       Manual   First Owner       Maruti  \n",
       "1  Individual       Manual  Second Owner        Skoda  \n",
       "2  Individual       Manual   Third Owner        Honda  \n",
       "3  Individual       Manual   First Owner      Hyundai  \n",
       "4  Individual       Manual   First Owner       Maruti  "
      ],
      "text/html": "<div>\n<style scoped>\n    .dataframe tbody tr th:only-of-type {\n        vertical-align: middle;\n    }\n\n    .dataframe tbody tr th {\n        vertical-align: top;\n    }\n\n    .dataframe thead th {\n        text-align: right;\n    }\n</style>\n<table border=\"1\" class=\"dataframe\">\n  <thead>\n    <tr style=\"text-align: right;\">\n      <th></th>\n      <th>name</th>\n      <th>year</th>\n      <th>selling_price</th>\n      <th>km_driven</th>\n      <th>fuel</th>\n      <th>seller_type</th>\n      <th>transmission</th>\n      <th>owner</th>\n      <th>manufacturer</th>\n    </tr>\n  </thead>\n  <tbody>\n    <tr>\n      <th>0</th>\n      <td>Maruti Swift Dzire VDI</td>\n      <td>2014</td>\n      <td>450000</td>\n      <td>145500</td>\n      <td>Diesel</td>\n      <td>Individual</td>\n      <td>Manual</td>\n      <td>First Owner</td>\n      <td>Maruti</td>\n    </tr>\n    <tr>\n      <th>1</th>\n      <td>Skoda Rapid 1.5 TDI Ambition</td>\n      <td>2014</td>\n      <td>370000</td>\n      <td>120000</td>\n      <td>Diesel</td>\n      <td>Individual</td>\n      <td>Manual</td>\n      <td>Second Owner</td>\n      <td>Skoda</td>\n    </tr>\n    <tr>\n      <th>2</th>\n      <td>Honda City 2017-2020 EXi</td>\n      <td>2006</td>\n      <td>158000</td>\n      <td>140000</td>\n      <td>Petrol</td>\n      <td>Individual</td>\n      <td>Manual</td>\n      <td>Third Owner</td>\n      <td>Honda</td>\n    </tr>\n    <tr>\n      <th>3</th>\n      <td>Hyundai i20 Sportz Diesel</td>\n      <td>2010</td>\n      <td>225000</td>\n      <td>127000</td>\n      <td>Diesel</td>\n      <td>Individual</td>\n      <td>Manual</td>\n      <td>First Owner</td>\n      <td>Hyundai</td>\n    </tr>\n    <tr>\n      <th>4</th>\n      <td>Maruti Swift VXI BSIII</td>\n      <td>2007</td>\n      <td>130000</td>\n      <td>120000</td>\n      <td>Petrol</td>\n      <td>Individual</td>\n      <td>Manual</td>\n      <td>First Owner</td>\n      <td>Maruti</td>\n    </tr>\n  </tbody>\n</table>\n</div>"
     },
     "metadata": {},
     "execution_count": 240
    }
   ],
   "source": [
    "master_data[\"manufacturer\"] = master_names\n",
    "master_data.head()"
   ]
  },
  {
   "cell_type": "code",
   "execution_count": 241,
   "metadata": {},
   "outputs": [
    {
     "output_type": "execute_result",
     "data": {
      "text/plain": [
       "['Land',\n",
       " 'Ambassador',\n",
       " 'Force',\n",
       " 'Isuzu',\n",
       " 'Kia',\n",
       " 'MG',\n",
       " 'Daewoo',\n",
       " 'OpelCorsa',\n",
       " 'Opel',\n",
       " 'Peugeot',\n",
       " 'Ashok']"
      ]
     },
     "metadata": {},
     "execution_count": 241
    }
   ],
   "source": [
    "# Bin manufacturers with less than 20 records in the data as \"Other\"\n",
    "low_count_makes = master_names.value_counts()[master_names.value_counts() < 20].index.to_flat_index().to_list()\n",
    "# Above gives a list of tuples, which will need to be converted to a plain list for use in editing binned records\n",
    "low_count_makes = [item for i in low_count_makes for item in i]\n",
    "low_count_makes"
   ]
  },
  {
   "cell_type": "code",
   "execution_count": 242,
   "metadata": {},
   "outputs": [
    {
     "output_type": "stream",
     "name": "stderr",
     "text": [
      "ipykernel_launcher:1: SettingWithCopyWarning: \nA value is trying to be set on a copy of a slice from a DataFrame\n\nSee the caveats in the documentation: https://pandas.pydata.org/pandas-docs/stable/user_guide/indexing.html#returning-a-view-versus-a-copy\n"
     ]
    },
    {
     "output_type": "execute_result",
     "data": {
      "text/plain": [
       "Maruti           3728\n",
       "Hyundai          2236\n",
       "Mahindra         1137\n",
       "Tata             1095\n",
       "Honda             716\n",
       "Toyota            694\n",
       "Ford              622\n",
       "Chevrolet         418\n",
       "Renault           373\n",
       "Volkswagen        291\n",
       "Skoda             173\n",
       "BMW               159\n",
       "Nissan            145\n",
       "Datsun            102\n",
       "Audi               97\n",
       "Mercedes-Benz      89\n",
       "Fiat               84\n",
       "Jaguar             77\n",
       "Volvo              71\n",
       "Other              51\n",
       "Lexus              34\n",
       "Jeep               34\n",
       "Mitsubishi         20\n",
       "Name: manufacturer, dtype: int64"
      ]
     },
     "metadata": {},
     "execution_count": 242
    }
   ],
   "source": [
    "master_data[\"manufacturer\"][master_data[\"manufacturer\"].isin(low_count_makes)] = \"Other\"\r\n",
    "master_data[\"manufacturer\"].value_counts()"
   ]
  },
  {
   "source": [
    "## Save Output"
   ],
   "cell_type": "markdown",
   "metadata": {}
  },
  {
   "cell_type": "code",
   "execution_count": 244,
   "metadata": {},
   "outputs": [],
   "source": [
    "master_data.to_csv(\"Resources/master_data.csv\")"
   ]
  }
 ]
}