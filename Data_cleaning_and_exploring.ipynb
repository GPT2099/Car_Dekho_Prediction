{
 "cells": [
  {
   "cell_type": "code",
   "execution_count": 2,
   "metadata": {},
   "outputs": [],
   "source": [
    "import pandas as pd\n",
    "import numpy as np\n",
    "import matplotlib.pyplot as plt\n",
    "import seaborn as sns"
   ]
  },
  {
   "cell_type": "code",
   "execution_count": 3,
   "metadata": {},
   "outputs": [
    {
     "output_type": "execute_result",
     "data": {
      "text/plain": [
       "        Car_Name  Year  Selling_Price  Present_Price  Kms_Driven Fuel_Type  \\\n",
       "0           ritz  2014           3.35           5.59       27000    Petrol   \n",
       "1            sx4  2013           4.75           9.54       43000    Diesel   \n",
       "2           ciaz  2017           7.25           9.85        6900    Petrol   \n",
       "3        wagon r  2011           2.85           4.15        5200    Petrol   \n",
       "4          swift  2014           4.60           6.87       42450    Diesel   \n",
       "5  vitara brezza  2018           9.25           9.83        2071    Diesel   \n",
       "6           ciaz  2015           6.75           8.12       18796    Petrol   \n",
       "7        s cross  2015           6.50           8.61       33429    Diesel   \n",
       "8           ciaz  2016           8.75           8.89       20273    Diesel   \n",
       "9           ciaz  2015           7.45           8.92       42367    Diesel   \n",
       "\n",
       "  Seller_Type Transmission  Owner  \n",
       "0      Dealer       Manual      0  \n",
       "1      Dealer       Manual      0  \n",
       "2      Dealer       Manual      0  \n",
       "3      Dealer       Manual      0  \n",
       "4      Dealer       Manual      0  \n",
       "5      Dealer       Manual      0  \n",
       "6      Dealer       Manual      0  \n",
       "7      Dealer       Manual      0  \n",
       "8      Dealer       Manual      0  \n",
       "9      Dealer       Manual      0  "
      ],
      "text/html": "<div>\n<style scoped>\n    .dataframe tbody tr th:only-of-type {\n        vertical-align: middle;\n    }\n\n    .dataframe tbody tr th {\n        vertical-align: top;\n    }\n\n    .dataframe thead th {\n        text-align: right;\n    }\n</style>\n<table border=\"1\" class=\"dataframe\">\n  <thead>\n    <tr style=\"text-align: right;\">\n      <th></th>\n      <th>Car_Name</th>\n      <th>Year</th>\n      <th>Selling_Price</th>\n      <th>Present_Price</th>\n      <th>Kms_Driven</th>\n      <th>Fuel_Type</th>\n      <th>Seller_Type</th>\n      <th>Transmission</th>\n      <th>Owner</th>\n    </tr>\n  </thead>\n  <tbody>\n    <tr>\n      <th>0</th>\n      <td>ritz</td>\n      <td>2014</td>\n      <td>3.35</td>\n      <td>5.59</td>\n      <td>27000</td>\n      <td>Petrol</td>\n      <td>Dealer</td>\n      <td>Manual</td>\n      <td>0</td>\n    </tr>\n    <tr>\n      <th>1</th>\n      <td>sx4</td>\n      <td>2013</td>\n      <td>4.75</td>\n      <td>9.54</td>\n      <td>43000</td>\n      <td>Diesel</td>\n      <td>Dealer</td>\n      <td>Manual</td>\n      <td>0</td>\n    </tr>\n    <tr>\n      <th>2</th>\n      <td>ciaz</td>\n      <td>2017</td>\n      <td>7.25</td>\n      <td>9.85</td>\n      <td>6900</td>\n      <td>Petrol</td>\n      <td>Dealer</td>\n      <td>Manual</td>\n      <td>0</td>\n    </tr>\n    <tr>\n      <th>3</th>\n      <td>wagon r</td>\n      <td>2011</td>\n      <td>2.85</td>\n      <td>4.15</td>\n      <td>5200</td>\n      <td>Petrol</td>\n      <td>Dealer</td>\n      <td>Manual</td>\n      <td>0</td>\n    </tr>\n    <tr>\n      <th>4</th>\n      <td>swift</td>\n      <td>2014</td>\n      <td>4.60</td>\n      <td>6.87</td>\n      <td>42450</td>\n      <td>Diesel</td>\n      <td>Dealer</td>\n      <td>Manual</td>\n      <td>0</td>\n    </tr>\n    <tr>\n      <th>5</th>\n      <td>vitara brezza</td>\n      <td>2018</td>\n      <td>9.25</td>\n      <td>9.83</td>\n      <td>2071</td>\n      <td>Diesel</td>\n      <td>Dealer</td>\n      <td>Manual</td>\n      <td>0</td>\n    </tr>\n    <tr>\n      <th>6</th>\n      <td>ciaz</td>\n      <td>2015</td>\n      <td>6.75</td>\n      <td>8.12</td>\n      <td>18796</td>\n      <td>Petrol</td>\n      <td>Dealer</td>\n      <td>Manual</td>\n      <td>0</td>\n    </tr>\n    <tr>\n      <th>7</th>\n      <td>s cross</td>\n      <td>2015</td>\n      <td>6.50</td>\n      <td>8.61</td>\n      <td>33429</td>\n      <td>Diesel</td>\n      <td>Dealer</td>\n      <td>Manual</td>\n      <td>0</td>\n    </tr>\n    <tr>\n      <th>8</th>\n      <td>ciaz</td>\n      <td>2016</td>\n      <td>8.75</td>\n      <td>8.89</td>\n      <td>20273</td>\n      <td>Diesel</td>\n      <td>Dealer</td>\n      <td>Manual</td>\n      <td>0</td>\n    </tr>\n    <tr>\n      <th>9</th>\n      <td>ciaz</td>\n      <td>2015</td>\n      <td>7.45</td>\n      <td>8.92</td>\n      <td>42367</td>\n      <td>Diesel</td>\n      <td>Dealer</td>\n      <td>Manual</td>\n      <td>0</td>\n    </tr>\n  </tbody>\n</table>\n</div>"
     },
     "execution_count": 2,
     "metadata": {},
     "execution_count": 3
    }
   ],
   "source": [
    "car_data_df = pd.read_csv('Resources/car data.csv')\n",
    "\n",
    "car_data_df.head(10)"
   ]
  },
  {
   "cell_type": "code",
   "execution_count": 4,
   "metadata": {},
   "outputs": [
    {
     "output_type": "execute_result",
     "data": {
      "text/plain": [
       "Car_Name         301\n",
       "Year             301\n",
       "Selling_Price    301\n",
       "Present_Price    301\n",
       "Kms_Driven       301\n",
       "Fuel_Type        301\n",
       "Seller_Type      301\n",
       "Transmission     301\n",
       "Owner            301\n",
       "dtype: int64"
      ]
     },
     "metadata": {},
     "execution_count": 4
    }
   ],
   "source": [
    "car_data_df.count()"
   ]
  },
  {
   "cell_type": "code",
   "execution_count": 11,
   "metadata": {},
   "outputs": [
    {
     "name": "stdout",
     "output_type": "stream",
     "text": [
      "city                        26\n",
      "corolla altis               16\n",
      "verna                       14\n",
      "fortuner                    11\n",
      "brio                        10\n",
      "                            ..\n",
      "Honda CB Unicorn             1\n",
      "camry                        1\n",
      "Royal Enfield Bullet 350     1\n",
      "Bajaj  ct 100                1\n",
      "TVS Jupyter                  1\n",
      "Name: Car_Name, Length: 98, dtype: int64 \n",
      "\n",
      "\n",
      "\n",
      "2015    61\n",
      "2016    50\n",
      "2014    38\n",
      "2017    35\n",
      "2013    33\n",
      "2012    23\n",
      "2011    19\n",
      "2010    15\n",
      "2008     7\n",
      "2009     6\n",
      "2006     4\n",
      "2005     4\n",
      "2007     2\n",
      "2003     2\n",
      "2018     1\n",
      "2004     1\n",
      "Name: Year, dtype: int64 \n",
      "\n",
      "\n",
      "\n",
      "0.60     8\n",
      "0.45     8\n",
      "5.25     7\n",
      "4.50     7\n",
      "4.75     6\n",
      "        ..\n",
      "19.99    1\n",
      "4.35     1\n",
      "0.80     1\n",
      "0.27     1\n",
      "7.20     1\n",
      "Name: Selling_Price, Length: 156, dtype: int64 \n",
      "\n",
      "\n",
      "\n",
      "9.40     15\n",
      "13.60    13\n",
      "5.70      8\n",
      "4.43      7\n",
      "1.47      7\n",
      "         ..\n",
      "9.29      1\n",
      "92.60     1\n",
      "13.70     1\n",
      "1.17      1\n",
      "0.65      1\n",
      "Name: Present_Price, Length: 147, dtype: int64 \n",
      "\n",
      "\n",
      "\n",
      "15000     9\n",
      "45000     9\n",
      "35000     5\n",
      "25000     5\n",
      "50000     5\n",
      "         ..\n",
      "1000      1\n",
      "500000    1\n",
      "11800     1\n",
      "5400      1\n",
      "4100      1\n",
      "Name: Kms_Driven, Length: 206, dtype: int64 \n",
      "\n",
      "\n",
      "\n",
      "Petrol    239\n",
      "Diesel     60\n",
      "CNG         2\n",
      "Name: Fuel_Type, dtype: int64 \n",
      "\n",
      "\n",
      "\n",
      "Dealer        195\n",
      "Individual    106\n",
      "Name: Seller_Type, dtype: int64 \n",
      "\n",
      "\n",
      "\n",
      "Manual       261\n",
      "Automatic     40\n",
      "Name: Transmission, dtype: int64 \n",
      "\n",
      "\n",
      "\n",
      "0    290\n",
      "1     10\n",
      "3      1\n",
      "Name: Owner, dtype: int64 \n",
      "\n",
      "\n",
      "\n"
     ]
    }
   ],
   "source": [
    "for col in car_data_df:\n",
    "    print(car_data_df[col].value_counts(ascending=False), '\\n\\n\\n')"
   ]
  },
  {
   "cell_type": "code",
   "execution_count": 4,
   "metadata": {},
   "outputs": [
    {
     "name": "stdout",
     "output_type": "stream",
     "text": [
      "<class 'pandas.core.frame.DataFrame'>\n",
      "RangeIndex: 301 entries, 0 to 300\n",
      "Data columns (total 9 columns):\n",
      " #   Column         Non-Null Count  Dtype  \n",
      "---  ------         --------------  -----  \n",
      " 0   Car_Name       301 non-null    object \n",
      " 1   Year           301 non-null    int64  \n",
      " 2   Selling_Price  301 non-null    float64\n",
      " 3   Present_Price  301 non-null    float64\n",
      " 4   Kms_Driven     301 non-null    int64  \n",
      " 5   Fuel_Type      301 non-null    object \n",
      " 6   Seller_Type    301 non-null    object \n",
      " 7   Transmission   301 non-null    object \n",
      " 8   Owner          301 non-null    int64  \n",
      "dtypes: float64(2), int64(3), object(4)\n",
      "memory usage: 21.3+ KB\n"
     ]
    }
   ],
   "source": [
    "car_data_df.info()"
   ]
  },
  {
   "cell_type": "code",
   "execution_count": 5,
   "metadata": {},
   "outputs": [
    {
     "data": {
      "text/html": [
       "<div>\n",
       "<style scoped>\n",
       "    .dataframe tbody tr th:only-of-type {\n",
       "        vertical-align: middle;\n",
       "    }\n",
       "\n",
       "    .dataframe tbody tr th {\n",
       "        vertical-align: top;\n",
       "    }\n",
       "\n",
       "    .dataframe thead th {\n",
       "        text-align: right;\n",
       "    }\n",
       "</style>\n",
       "<table border=\"1\" class=\"dataframe\">\n",
       "  <thead>\n",
       "    <tr style=\"text-align: right;\">\n",
       "      <th></th>\n",
       "      <th>Year</th>\n",
       "      <th>Selling_Price</th>\n",
       "      <th>Present_Price</th>\n",
       "      <th>Kms_Driven</th>\n",
       "      <th>Owner</th>\n",
       "    </tr>\n",
       "  </thead>\n",
       "  <tbody>\n",
       "    <tr>\n",
       "      <th>count</th>\n",
       "      <td>301.000000</td>\n",
       "      <td>301.000000</td>\n",
       "      <td>301.000000</td>\n",
       "      <td>301.000000</td>\n",
       "      <td>301.000000</td>\n",
       "    </tr>\n",
       "    <tr>\n",
       "      <th>mean</th>\n",
       "      <td>2013.627907</td>\n",
       "      <td>4.661296</td>\n",
       "      <td>7.628472</td>\n",
       "      <td>36947.205980</td>\n",
       "      <td>0.043189</td>\n",
       "    </tr>\n",
       "    <tr>\n",
       "      <th>std</th>\n",
       "      <td>2.891554</td>\n",
       "      <td>5.082812</td>\n",
       "      <td>8.644115</td>\n",
       "      <td>38886.883882</td>\n",
       "      <td>0.247915</td>\n",
       "    </tr>\n",
       "    <tr>\n",
       "      <th>min</th>\n",
       "      <td>2003.000000</td>\n",
       "      <td>0.100000</td>\n",
       "      <td>0.320000</td>\n",
       "      <td>500.000000</td>\n",
       "      <td>0.000000</td>\n",
       "    </tr>\n",
       "    <tr>\n",
       "      <th>25%</th>\n",
       "      <td>2012.000000</td>\n",
       "      <td>0.900000</td>\n",
       "      <td>1.200000</td>\n",
       "      <td>15000.000000</td>\n",
       "      <td>0.000000</td>\n",
       "    </tr>\n",
       "    <tr>\n",
       "      <th>50%</th>\n",
       "      <td>2014.000000</td>\n",
       "      <td>3.600000</td>\n",
       "      <td>6.400000</td>\n",
       "      <td>32000.000000</td>\n",
       "      <td>0.000000</td>\n",
       "    </tr>\n",
       "    <tr>\n",
       "      <th>75%</th>\n",
       "      <td>2016.000000</td>\n",
       "      <td>6.000000</td>\n",
       "      <td>9.900000</td>\n",
       "      <td>48767.000000</td>\n",
       "      <td>0.000000</td>\n",
       "    </tr>\n",
       "    <tr>\n",
       "      <th>max</th>\n",
       "      <td>2018.000000</td>\n",
       "      <td>35.000000</td>\n",
       "      <td>92.600000</td>\n",
       "      <td>500000.000000</td>\n",
       "      <td>3.000000</td>\n",
       "    </tr>\n",
       "  </tbody>\n",
       "</table>\n",
       "</div>"
      ],
      "text/plain": [
       "              Year  Selling_Price  Present_Price     Kms_Driven       Owner\n",
       "count   301.000000     301.000000     301.000000     301.000000  301.000000\n",
       "mean   2013.627907       4.661296       7.628472   36947.205980    0.043189\n",
       "std       2.891554       5.082812       8.644115   38886.883882    0.247915\n",
       "min    2003.000000       0.100000       0.320000     500.000000    0.000000\n",
       "25%    2012.000000       0.900000       1.200000   15000.000000    0.000000\n",
       "50%    2014.000000       3.600000       6.400000   32000.000000    0.000000\n",
       "75%    2016.000000       6.000000       9.900000   48767.000000    0.000000\n",
       "max    2018.000000      35.000000      92.600000  500000.000000    3.000000"
      ]
     },
     "execution_count": 5,
     "metadata": {},
     "output_type": "execute_result"
    }
   ],
   "source": [
    "car_data_df.describe()"
   ]
  },
  {
   "cell_type": "code",
   "execution_count": 6,
   "metadata": {},
   "outputs": [
    {
     "data": {
      "image/png": "[encoded data removed]",
      "text/plain": [
       "<Figure size 1080x720 with 4 Axes>"
      ]
     },
     "metadata": {
      "needs_background": "light"
     },
     "output_type": "display_data"
    }
   ],
   "source": [
    "plt.figure(figsize=(15, 10))\n",
    "plt.subplot(2,2,1)\n",
    "sns.boxplot(x = 'Fuel_Type', y = 'Selling_Price', data = car_data_df)\n",
    "plt.subplot(2,2,2)\n",
    "sns.boxplot(x = 'Seller_Type', y = 'Selling_Price', data = car_data_df)\n",
    "plt.subplot(2,2,3)\n",
    "sns.boxplot(x = 'Transmission', y = 'Selling_Price', data = car_data_df)\n",
    "plt.subplot(2,2,4)\n",
    "sns.boxplot(x = 'Owner', y = 'Selling_Price', data = car_data_df)\n",
    "\n",
    "plt.show()"
   ]
  },
  {
   "cell_type": "code",
   "execution_count": 10,
   "metadata": {},
   "outputs": [
    {
     "data": {
      "text/plain": [
       "<AxesSubplot:xlabel='Kms_Driven', ylabel='Selling_Price'>"
      ]
     },
     "execution_count": 10,
     "metadata": {},
     "output_type": "execute_result"
    },
    {
     "data": {
      "image/png": "[encoded data removed]",
      "text/plain": [
       "<Figure size 432x288 with 1 Axes>"
      ]
     },
     "metadata": {
      "needs_background": "light"
     },
     "output_type": "display_data"
    }
   ],
   "source": [
    "# selling price vs km driven\n",
    "dat = car_data_df[(car_data_df['Selling_Price']<20_00_000) & (car_data_df['Kms_Driven']<5_00_000)]\n",
    "\n",
    "sns.regplot(data = car_data_df,x='Kms_Driven',y='Selling_Price')"
   ]
  },
  {
   "cell_type": "code",
   "execution_count": 11,
   "metadata": {},
   "outputs": [
    {
     "data": {
      "image/png": "[encoded data removed]",
      "text/plain": [
       "<Figure size 360x360 with 1 Axes>"
      ]
     },
     "metadata": {
      "needs_background": "light"
     },
     "output_type": "display_data"
    },
    {
     "data": {
      "text/plain": [
       "<Figure size 720x720 with 0 Axes>"
      ]
     },
     "metadata": {},
     "output_type": "display_data"
    }
   ],
   "source": [
    "# selling price vs owner\n",
    "sns.catplot(data = car_data_df,x='Owner',y='Selling_Price')\n",
    "plt.figure(figsize=(10,10))\n",
    "plt.show()"
   ]
  },
  {
   "cell_type": "code",
   "execution_count": null,
   "metadata": {},
   "outputs": [],
   "source": []
  }
 ],
 "metadata": {
  "kernelspec": {
   "display_name": "mlenv",
   "language": "python",
   "name": "mlenv"
  },
  "language_info": {
   "codemirror_mode": {
    "name": "ipython",
    "version": 3
   },
   "file_extension": ".py",
   "mimetype": "text/x-python",
   "name": "python",
   "nbconvert_exporter": "python",
   "pygments_lexer": "ipython3",
   "version": "3.7.9"
  }
 },
 "nbformat": 4,
 "nbformat_minor": 4
}